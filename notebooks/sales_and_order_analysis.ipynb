{
 "cells": [
  {
   "cell_type": "markdown",
   "id": "2cf970ec",
   "metadata": {},
   "source": [
    "# Sales and Order Analysis  "
   ]
  },
  {
   "cell_type": "code",
   "execution_count": 1,
   "id": "e853a5bb",
   "metadata": {},
   "outputs": [],
   "source": [
    "import pandas as pd\n",
    "import matplotlib.pyplot as plt\n",
    "import seaborn as sns"
   ]
  },
  {
   "cell_type": "code",
   "execution_count": 2,
   "id": "b6fcd454",
   "metadata": {},
   "outputs": [],
   "source": [
    "ecom_data_df = pd.read_parquet(\"../data/olist_ecom.parquet\")"
   ]
  },
  {
   "cell_type": "code",
   "execution_count": 3,
   "id": "9b4cdda2",
   "metadata": {},
   "outputs": [
    {
     "data": {
      "text/html": [
       "<div>\n",
       "<style scoped>\n",
       "    .dataframe tbody tr th:only-of-type {\n",
       "        vertical-align: middle;\n",
       "    }\n",
       "\n",
       "    .dataframe tbody tr th {\n",
       "        vertical-align: top;\n",
       "    }\n",
       "\n",
       "    .dataframe thead th {\n",
       "        text-align: right;\n",
       "    }\n",
       "</style>\n",
       "<table border=\"1\" class=\"dataframe\">\n",
       "  <thead>\n",
       "    <tr style=\"text-align: right;\">\n",
       "      <th></th>\n",
       "      <th>index</th>\n",
       "      <th>customer_id</th>\n",
       "      <th>customer_unique_id</th>\n",
       "      <th>customer_zip_code_prefix</th>\n",
       "      <th>customer_city</th>\n",
       "      <th>customer_state</th>\n",
       "      <th>order_id</th>\n",
       "      <th>order_status</th>\n",
       "      <th>order_purchase_timestamp</th>\n",
       "      <th>order_approved_at</th>\n",
       "      <th>...</th>\n",
       "      <th>delivery_vs_estimate</th>\n",
       "      <th>Frequency</th>\n",
       "      <th>Monetary</th>\n",
       "      <th>Recency</th>\n",
       "      <th>R_score</th>\n",
       "      <th>F_score</th>\n",
       "      <th>M_score</th>\n",
       "      <th>RFM_score_string</th>\n",
       "      <th>RFM_score_composite</th>\n",
       "      <th>RFM_segment</th>\n",
       "    </tr>\n",
       "  </thead>\n",
       "  <tbody>\n",
       "    <tr>\n",
       "      <th>0</th>\n",
       "      <td>0</td>\n",
       "      <td>469634941c27cd844170935a3cf60b95</td>\n",
       "      <td>ef07ba9aa5226f77264ffa5762b2280b</td>\n",
       "      <td>81750.0</td>\n",
       "      <td>curitiba</td>\n",
       "      <td>PR</td>\n",
       "      <td>a9119eb77d6200811953803a7b6539e1</td>\n",
       "      <td>delivered</td>\n",
       "      <td>2018-03-12 13:07:03</td>\n",
       "      <td>2018-03-12 13:15:28</td>\n",
       "      <td>...</td>\n",
       "      <td>-6.229919</td>\n",
       "      <td>1</td>\n",
       "      <td>44.92</td>\n",
       "      <td>182</td>\n",
       "      <td>4</td>\n",
       "      <td>1</td>\n",
       "      <td>1</td>\n",
       "      <td>411</td>\n",
       "      <td>6</td>\n",
       "      <td>Single Buyers (Recent &amp; Moderate/Low M)</td>\n",
       "    </tr>\n",
       "  </tbody>\n",
       "</table>\n",
       "<p>1 rows × 45 columns</p>\n",
       "</div>"
      ],
      "text/plain": [
       "   index                       customer_id                customer_unique_id  \\\n",
       "0      0  469634941c27cd844170935a3cf60b95  ef07ba9aa5226f77264ffa5762b2280b   \n",
       "\n",
       "   customer_zip_code_prefix customer_city customer_state  \\\n",
       "0                   81750.0      curitiba             PR   \n",
       "\n",
       "                           order_id order_status order_purchase_timestamp  \\\n",
       "0  a9119eb77d6200811953803a7b6539e1    delivered      2018-03-12 13:07:03   \n",
       "\n",
       "    order_approved_at  ... delivery_vs_estimate Frequency Monetary  Recency  \\\n",
       "0 2018-03-12 13:15:28  ...            -6.229919         1    44.92      182   \n",
       "\n",
       "  R_score  F_score  M_score  RFM_score_string RFM_score_composite  \\\n",
       "0       4        1        1               411                   6   \n",
       "\n",
       "                               RFM_segment  \n",
       "0  Single Buyers (Recent & Moderate/Low M)  \n",
       "\n",
       "[1 rows x 45 columns]"
      ]
     },
     "execution_count": 3,
     "metadata": {},
     "output_type": "execute_result"
    }
   ],
   "source": [
    "ecom_data_df.head(1)"
   ]
  }
 ],
 "metadata": {
  "kernelspec": {
   "display_name": "base",
   "language": "python",
   "name": "python3"
  },
  "language_info": {
   "codemirror_mode": {
    "name": "ipython",
    "version": 3
   },
   "file_extension": ".py",
   "mimetype": "text/x-python",
   "name": "python",
   "nbconvert_exporter": "python",
   "pygments_lexer": "ipython3",
   "version": "3.12.7"
  }
 },
 "nbformat": 4,
 "nbformat_minor": 5
}
