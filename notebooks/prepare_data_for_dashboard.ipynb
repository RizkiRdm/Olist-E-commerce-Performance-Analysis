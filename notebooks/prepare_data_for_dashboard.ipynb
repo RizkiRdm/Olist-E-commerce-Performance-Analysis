{
 "cells": [
  {
   "cell_type": "markdown",
   "id": "0939d881",
   "metadata": {},
   "source": [
    "# Prepare data For Dashboard"
   ]
  },
  {
   "cell_type": "code",
   "execution_count": 1,
   "id": "240a267f",
   "metadata": {},
   "outputs": [],
   "source": [
    "import pandas as pd\n",
    "import numpy as np"
   ]
  },
  {
   "cell_type": "code",
   "execution_count": 2,
   "id": "a8ca3ea6",
   "metadata": {},
   "outputs": [],
   "source": [
    "ecom_data_df = pd.read_parquet(\"../data/olist_ecom.parquet\")"
   ]
  },
  {
   "cell_type": "markdown",
   "id": "8ead4644",
   "metadata": {},
   "source": [
    "## --- Data for 'Executive Summary / Overview' and 'Sales & Order Performance' Tab ---"
   ]
  },
  {
   "cell_type": "code",
   "execution_count": null,
   "id": "a0b2b00c",
   "metadata": {},
   "outputs": [
    {
     "name": "stdout",
     "output_type": "stream",
     "text": [
      "Date columns ensured as datetime.\n"
     ]
    }
   ],
   "source": [
    "date_cols = [\n",
    "    \"order_purchase_timestamp\",\n",
    "    \"order_approved_at\",\n",
    "    \"order_delivered_carrier_date\",\n",
    "    \"order_delivered_customer_date\",\n",
    "    \"order_estimated_delivery_date\",\n",
    "]\n",
    "for col in date_cols:\n",
    "    ecom_data_df[col] = pd.to_datetime(ecom_data_df[col], errors=\"coerce\")\n",
    "\n",
    "print(\"Date columns ensured as datetime.\")"
   ]
  },
  {
   "cell_type": "markdown",
   "id": "11973892",
   "metadata": {},
   "source": [
    "### Monthly Sales Summary"
   ]
  },
  {
   "cell_type": "code",
   "execution_count": 4,
   "id": "c7c7453f",
   "metadata": {},
   "outputs": [],
   "source": [
    "# Make sure 'order_purchase_timestamp' is correctly parsed for time-series operations\n",
    "ecom_data_df[\"order_purchase_timestamp\"] = pd.to_datetime(\n",
    "    ecom_data_df[\"order_purchase_timestamp\"]\n",
    ")"
   ]
  },
  {
   "cell_type": "code",
   "execution_count": 6,
   "id": "9817687d",
   "metadata": {},
   "outputs": [],
   "source": [
    "monthly_sales_summary = (\n",
    "    ecom_data_df.groupby(pd.Grouper(key=\"order_purchase_timestamp\", freq=\"ME\"))\n",
    "    .agg(\n",
    "        total_orders=(\"order_id\", \"nunique\"),\n",
    "        total_revenue=(\"price\", \"sum\"),\n",
    "        total_freight=(\"freight_value\", \"sum\"),\n",
    "        avg_order_value=(\n",
    "            \"payment_value\",\n",
    "            \"mean\",\n",
    "        ),\n",
    "    )\n",
    "    .reset_index()\n",
    ")"
   ]
  },
  {
   "cell_type": "code",
   "execution_count": 7,
   "id": "769f11ec",
   "metadata": {},
   "outputs": [],
   "source": [
    "monthly_sales_summary[\"month_year\"] = (\n",
    "    monthly_sales_summary[\"order_purchase_timestamp\"].dt.to_period(\"M\").astype(str)\n",
    ")\n",
    "monthly_sales_summary.drop(columns=[\"order_purchase_timestamp\"], inplace=True)"
   ]
  },
  {
   "cell_type": "code",
   "execution_count": 8,
   "id": "004ed6f4",
   "metadata": {},
   "outputs": [
    {
     "name": "stdout",
     "output_type": "stream",
     "text": [
      "dashboard_monthly_sales_summary.csv exported.\n"
     ]
    }
   ],
   "source": [
    "monthly_sales_summary.to_csv(\"dashboard_monthly_sales_summary.csv\", index=False)\n",
    "print(\"dashboard_monthly_sales_summary.csv exported.\")"
   ]
  },
  {
   "cell_type": "markdown",
   "id": "59cf7b23",
   "metadata": {},
   "source": [
    "### Daily/Hourly Patterns"
   ]
  },
  {
   "cell_type": "code",
   "execution_count": 13,
   "id": "302512c0",
   "metadata": {},
   "outputs": [],
   "source": [
    "# Ensure only 'delivered' orders are counted for typical analysis\n",
    "delivered_orders = ecom_data_df[ecom_data_df[\"order_status\"] == \"delivered\"].copy()\n",
    "delivered_orders[\"order_purchase_timestamp\"] = pd.to_datetime(\n",
    "    delivered_orders[\"order_purchase_timestamp\"]\n",
    ")  # Re-ensure datetime"
   ]
  },
  {
   "cell_type": "code",
   "execution_count": 15,
   "id": "22c6e5e8",
   "metadata": {},
   "outputs": [],
   "source": [
    "daily_patterns = (\n",
    "    delivered_orders[\"order_purchase_timestamp\"]\n",
    "    .dt.day_name()\n",
    "    .value_counts()\n",
    "    .reindex(\n",
    "        [\"Monday\", \"Tuesday\", \"Wednesday\", \"Thursday\", \"Friday\", \"Saturday\", \"Sunday\"]\n",
    "    )\n",
    "    .reset_index()\n",
    ")\n",
    "daily_patterns.columns = [\"day_of_week\", \"total_orders\"]"
   ]
  },
  {
   "cell_type": "code",
   "execution_count": 16,
   "id": "a9f59c09",
   "metadata": {},
   "outputs": [
    {
     "name": "stdout",
     "output_type": "stream",
     "text": [
      "dashboard_daily_patterns.csv exported.\n"
     ]
    }
   ],
   "source": [
    "daily_patterns.to_csv(\"dashboard_daily_patterns.csv\", index=False)\n",
    "print(\"dashboard_daily_patterns.csv exported.\")"
   ]
  },
  {
   "cell_type": "code",
   "execution_count": 17,
   "id": "3acf2f0c",
   "metadata": {},
   "outputs": [],
   "source": [
    "hourly_patterns = (\n",
    "    delivered_orders[\"order_purchase_timestamp\"]\n",
    "    .dt.hour.value_counts()\n",
    "    .sort_index()\n",
    "    .reset_index()\n",
    ")\n",
    "hourly_patterns.columns = [\"hour_of_day\", \"total_orders\"]"
   ]
  },
  {
   "cell_type": "code",
   "execution_count": 18,
   "id": "1c8ac566",
   "metadata": {},
   "outputs": [
    {
     "name": "stdout",
     "output_type": "stream",
     "text": [
      "dashboard_hourly_patterns.csv exported.\n"
     ]
    }
   ],
   "source": [
    "hourly_patterns.to_csv(\"dashboard_hourly_patterns.csv\", index=False)\n",
    "print(\"dashboard_hourly_patterns.csv exported.\")"
   ]
  },
  {
   "cell_type": "markdown",
   "id": "46a8ba49",
   "metadata": {},
   "source": [
    "### Order Status Distribution"
   ]
  },
  {
   "cell_type": "code",
   "execution_count": 19,
   "id": "d7f18633",
   "metadata": {},
   "outputs": [],
   "source": [
    "order_status_distribution = (\n",
    "    ecom_data_df[\"order_status\"].value_counts(normalize=True).reset_index()\n",
    ")\n",
    "order_status_distribution.columns = [\"order_status\", \"percentage\"]"
   ]
  },
  {
   "cell_type": "code",
   "execution_count": null,
   "id": "76ff894c",
   "metadata": {},
   "outputs": [],
   "source": [
    "order_status_distribution.to_csv(\"dashboard_order_status_distribution.csv\", index=False)\n",
    "print(\"dashboard_order_status_distribution.csv exported.\")"
   ]
  },
  {
   "cell_type": "markdown",
   "id": "763c63e1",
   "metadata": {},
   "source": [
    "### Delivery Performance Distribution (Overall)"
   ]
  },
  {
   "cell_type": "code",
   "execution_count": 20,
   "id": "50aaec67",
   "metadata": {},
   "outputs": [],
   "source": [
    "# Use 'delivery_vs_estimate' to classify performance as 'Early', 'On-Time', 'Late' directly from ecom_data_df\n",
    "# Assuming 'delivery_vs_estimate' column already exists as per your sample output\n",
    "def classify_delivery_performance(days):\n",
    "    if pd.isna(days):\n",
    "        return (\n",
    "            \"Not Delivered/Unknown\"  # Handle cases where delivery date might be missing\n",
    "        )\n",
    "    if days < 0:\n",
    "        return \"Early\"\n",
    "    elif days == 0:\n",
    "        return \"On-Time\"\n",
    "    else:\n",
    "        return \"Late\""
   ]
  },
  {
   "cell_type": "code",
   "execution_count": 21,
   "id": "5c8a25ed",
   "metadata": {},
   "outputs": [],
   "source": [
    "# Create 'delivery_performance_category' by classifying 'delivery_vs_estimate' using a function 'classify_delivery_performance'\n",
    "ecom_data_df[\"delivery_performance_category\"] = ecom_data_df[\n",
    "    \"delivery_vs_estimate\"\n",
    "].apply(classify_delivery_performance)\n",
    "\n",
    "# Count the percentage distribution of delivery performance categories and reset index to DataFrame\n",
    "delivery_performance_counts = (\n",
    "    ecom_data_df[\"delivery_performance_category\"]\n",
    "    .value_counts(normalize=True)\n",
    "    .reset_index()\n",
    ")"
   ]
  },
  {
   "cell_type": "code",
   "execution_count": 22,
   "id": "06ccd0fe",
   "metadata": {},
   "outputs": [
    {
     "name": "stdout",
     "output_type": "stream",
     "text": [
      "dashboard_delivery_performance_summary.csv exported.\n"
     ]
    }
   ],
   "source": [
    "delivery_performance_counts.columns = [\"delivery_performance_category\", \"percentage\"]\n",
    "delivery_performance_counts.to_csv(\n",
    "    \"dashboard_delivery_performance_summary.csv\", index=False\n",
    ")\n",
    "print(\"dashboard_delivery_performance_summary.csv exported.\")"
   ]
  },
  {
   "cell_type": "markdown",
   "id": "c5c50f30",
   "metadata": {},
   "source": [
    "### Shipping Time Distribution (for histogram) - using the raw column 'total_delivery_time'"
   ]
  },
  {
   "cell_type": "code",
   "execution_count": null,
   "id": "a7caf2b0",
   "metadata": {},
   "outputs": [
    {
     "name": "stdout",
     "output_type": "stream",
     "text": [
      "dashboard_delivery_time_distribution.csv exported.\n"
     ]
    }
   ],
   "source": [
    "# Drop duplicates if multiple order_items for same order\n",
    "delivery_time_data = ecom_data_df[[\"total_delivery_time\"]].dropna().drop_duplicates()\n",
    "delivery_time_data.to_csv(\"dashboard_delivery_time_distribution.csv\", index=False)\n",
    "print(\"dashboard_delivery_time_distribution.csv exported.\")"
   ]
  },
  {
   "cell_type": "markdown",
   "id": "bebcde44",
   "metadata": {},
   "source": [
    "### Average Freight Value by Customer State"
   ]
  },
  {
   "cell_type": "code",
   "execution_count": 24,
   "id": "8d5c20dc",
   "metadata": {},
   "outputs": [],
   "source": [
    "# Using unique order_id to avoid double counting freight for multiple items in one order\n",
    "avg_freight_by_state = (\n",
    "    ecom_data_df.drop_duplicates(subset=\"order_id\")\n",
    "    .groupby(\"customer_state\")[\"freight_value\"]\n",
    "    .mean()\n",
    "    .sort_values(ascending=False)\n",
    "    .reset_index()\n",
    ")"
   ]
  },
  {
   "cell_type": "code",
   "execution_count": 25,
   "id": "bef97440",
   "metadata": {},
   "outputs": [
    {
     "name": "stdout",
     "output_type": "stream",
     "text": [
      "dashboard_avg_freight_by_state.csv exported.\n"
     ]
    }
   ],
   "source": [
    "avg_freight_by_state.columns = [\"customer_state\", \"avg_freight_value\"]\n",
    "avg_freight_by_state.to_csv(\"dashboard_avg_freight_by_state.csv\", index=False)\n",
    "print(\"dashboard_avg_freight_by_state.csv exported.\")"
   ]
  },
  {
   "cell_type": "markdown",
   "id": "198c4ded",
   "metadata": {},
   "source": [
    "## --- Data for 'Customer Insights (RFM Analysis)' Tab ---"
   ]
  },
  {
   "cell_type": "markdown",
   "id": "935532da",
   "metadata": {},
   "source": [
    "### Main RFM Segments Data (already in ecom_data_df, just need unique customer rows)"
   ]
  },
  {
   "cell_type": "code",
   "execution_count": 29,
   "id": "0ab37fcc",
   "metadata": {},
   "outputs": [],
   "source": [
    "# Select only relevant RFM columns for each unique customer\n",
    "customer_rfm_segments = ecom_data_df[\n",
    "    [\n",
    "        \"customer_unique_id\",\n",
    "        \"Recency\",\n",
    "        \"Frequency\",\n",
    "        \"Monetary\",\n",
    "        \"R_score\",\n",
    "        \"F_score\",\n",
    "        \"M_score\",\n",
    "        \"RFM_score_string\",\n",
    "        \"RFM_segment\",\n",
    "    ]\n",
    "].drop_duplicates(subset=\"customer_unique_id\")"
   ]
  },
  {
   "cell_type": "code",
   "execution_count": 30,
   "id": "cf1d2c47",
   "metadata": {},
   "outputs": [
    {
     "name": "stdout",
     "output_type": "stream",
     "text": [
      "dashboard_customer_rfm_segments.csv exported.\n"
     ]
    }
   ],
   "source": [
    "customer_rfm_segments.to_csv(\"dashboard_customer_rfm_segments.csv\", index=False)\n",
    "print(\"dashboard_customer_rfm_segments.csv exported.\")"
   ]
  },
  {
   "cell_type": "markdown",
   "id": "47342455",
   "metadata": {},
   "source": [
    "### RFM Segment Characteristics (Product Category, Payment Type, Customer State)"
   ]
  },
  {
   "cell_type": "code",
   "execution_count": 31,
   "id": "0bda5fa0",
   "metadata": {},
   "outputs": [],
   "source": [
    "rfm_product_category_counts = (\n",
    "    ecom_data_df.groupby([\"RFM_segment\", \"product_category_name\"])[\"order_id\"]\n",
    "    .nunique()\n",
    "    .reset_index()\n",
    ")"
   ]
  },
  {
   "cell_type": "code",
   "execution_count": null,
   "id": "47f7241d",
   "metadata": {},
   "outputs": [
    {
     "name": "stdout",
     "output_type": "stream",
     "text": [
      "dashboard_rfm_product_category_counts.csv exported.\n"
     ]
    }
   ],
   "source": [
    "rfm_product_category_counts.to_csv(\n",
    "    \"dashboard_rfm_product_category_counts.csv\", index=False\n",
    ")\n",
    "print(\"dashboard_rfm_product_category_counts.csv exported.\")"
   ]
  },
  {
   "cell_type": "code",
   "execution_count": 33,
   "id": "17d3ce84",
   "metadata": {},
   "outputs": [],
   "source": [
    "rfm_payment_type_counts = (\n",
    "    ecom_data_df.groupby([\"RFM_segment\", \"payment_type\"])[\"order_id\"]\n",
    "    .nunique()\n",
    "    .reset_index()\n",
    ")"
   ]
  },
  {
   "cell_type": "code",
   "execution_count": 34,
   "id": "c2d3c3c9",
   "metadata": {},
   "outputs": [
    {
     "name": "stdout",
     "output_type": "stream",
     "text": [
      "dashboard_rfm_payment_type_counts.csv exported.\n"
     ]
    }
   ],
   "source": [
    "rfm_payment_type_counts.to_csv(\"dashboard_rfm_payment_type_counts.csv\", index=False)\n",
    "print(\"dashboard_rfm_payment_type_counts.csv exported.\")"
   ]
  },
  {
   "cell_type": "code",
   "execution_count": 35,
   "id": "4758dac1",
   "metadata": {},
   "outputs": [],
   "source": [
    "rfm_customer_state_counts = (\n",
    "    ecom_data_df.groupby([\"RFM_segment\", \"customer_state\"])[\"order_id\"]\n",
    "    .nunique()\n",
    "    .reset_index()\n",
    ")"
   ]
  },
  {
   "cell_type": "code",
   "execution_count": 36,
   "id": "23dc140e",
   "metadata": {},
   "outputs": [
    {
     "name": "stdout",
     "output_type": "stream",
     "text": [
      "dashboard_rfm_customer_state_counts.csv exported.\n"
     ]
    }
   ],
   "source": [
    "rfm_customer_state_counts.to_csv(\"dashboard_rfm_customer_state_counts.csv\", index=False)\n",
    "print(\"dashboard_rfm_customer_state_counts.csv exported.\")"
   ]
  },
  {
   "cell_type": "markdown",
   "id": "fe6ea961",
   "metadata": {},
   "source": [
    "### Delivery Performance by RFM Segment"
   ]
  },
  {
   "cell_type": "code",
   "execution_count": 37,
   "id": "f6ed1941",
   "metadata": {},
   "outputs": [],
   "source": [
    "# Aggregate 'delivery_time_days' and 'delivery_vs_estimate' by RFM segment\n",
    "rfm_delivery_performance_summary = (\n",
    "    ecom_data_df.drop_duplicates(subset=\"order_id\")\n",
    "    .groupby(\"RFM_segment\")\n",
    "    .agg(\n",
    "        avg_delivery_time=(\"total_delivery_time\", \"mean\"),\n",
    "        avg_delivery_vs_estimate=(\"delivery_vs_estimate\", \"mean\"),\n",
    "    )\n",
    "    .reset_index()\n",
    ")"
   ]
  },
  {
   "cell_type": "code",
   "execution_count": 38,
   "id": "52a5b385",
   "metadata": {},
   "outputs": [
    {
     "name": "stdout",
     "output_type": "stream",
     "text": [
      "dashboard_rfm_delivery_performance_summary.csv exported.\n"
     ]
    }
   ],
   "source": [
    "rfm_delivery_performance_summary.to_csv(\n",
    "    \"dashboard_rfm_delivery_performance_summary.csv\", index=False\n",
    ")\n",
    "print(\"dashboard_rfm_delivery_performance_summary.csv exported.\")"
   ]
  },
  {
   "cell_type": "markdown",
   "id": "0c093631",
   "metadata": {},
   "source": [
    "## --- Data for 'Seller Performance' Tab ---"
   ]
  },
  {
   "cell_type": "code",
   "execution_count": 39,
   "id": "e28e6d4f",
   "metadata": {},
   "outputs": [],
   "source": [
    "# Aggregate Seller Performance Metrics directly from ecom_data_df\n",
    "seller_summary = (\n",
    "    ecom_data_df.groupby(\"seller_id\")\n",
    "    .agg(\n",
    "        total_sales=(\"price\", \"sum\"),\n",
    "        total_freight=(\"freight_value\", \"sum\"),\n",
    "        total_orders=(\"order_id\", \"nunique\"),  # Count unique orders per seller\n",
    "        avg_delivery_time=(\"total_delivery_time\", \"mean\"),\n",
    "        avg_delivery_vs_estimate=(\"delivery_vs_estimate\", \"mean\"),\n",
    "    )\n",
    "    .reset_index()\n",
    ")"
   ]
  },
  {
   "cell_type": "code",
   "execution_count": 40,
   "id": "3b6494cb",
   "metadata": {},
   "outputs": [
    {
     "name": "stdout",
     "output_type": "stream",
     "text": [
      "dashboard_seller_performance_summary.csv exported.\n"
     ]
    }
   ],
   "source": [
    "seller_summary[\"total_revenue\"] = (\n",
    "    seller_summary[\"total_sales\"] + seller_summary[\"total_freight\"]\n",
    ")\n",
    "seller_summary.to_csv(\"dashboard_seller_performance_summary.csv\", index=False)\n",
    "print(\"dashboard_seller_performance_summary.csv exported.\")"
   ]
  }
 ],
 "metadata": {
  "kernelspec": {
   "display_name": "base",
   "language": "python",
   "name": "python3"
  },
  "language_info": {
   "codemirror_mode": {
    "name": "ipython",
    "version": 3
   },
   "file_extension": ".py",
   "mimetype": "text/x-python",
   "name": "python",
   "nbconvert_exporter": "python",
   "pygments_lexer": "ipython3",
   "version": "3.12.7"
  }
 },
 "nbformat": 4,
 "nbformat_minor": 5
}
