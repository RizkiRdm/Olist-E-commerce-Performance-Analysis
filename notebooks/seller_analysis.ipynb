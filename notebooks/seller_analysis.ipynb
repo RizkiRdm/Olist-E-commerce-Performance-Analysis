{
 "cells": [
  {
   "cell_type": "markdown",
   "id": "af586285",
   "metadata": {},
   "source": [
    "# Seller Analysis"
   ]
  },
  {
   "cell_type": "code",
   "execution_count": 1,
   "id": "ae461706",
   "metadata": {},
   "outputs": [],
   "source": [
    "import pandas as pd\n",
    "import matplotlib.pyplot as plt\n",
    "import seaborn as sns\n",
    "\n",
    "pd.set_option(\"display.max_columns\", None)\n",
    "pd.set_option(\"display.max_rows\", None)\n",
    "\n",
    "\n",
    "sns.set_style(\"whitegrid\")\n",
    "plt.rcParams[\"figure.figsize\"] = (10, 6)\n",
    "plt.rcParams[\"font.size\"] = 12"
   ]
  },
  {
   "cell_type": "code",
   "execution_count": 2,
   "id": "96203742",
   "metadata": {},
   "outputs": [],
   "source": [
    "ecom_data_df = pd.read_parquet(\"../data/olist_ecom.parquet\")"
   ]
  },
  {
   "cell_type": "markdown",
   "id": "3efee7d3",
   "metadata": {},
   "source": [
    "## Aggregate Seller Performance Metrics"
   ]
  },
  {
   "cell_type": "code",
   "execution_count": null,
   "id": "507b2be7",
   "metadata": {},
   "outputs": [],
   "source": [
    "seller_summary = (\n",
    "    ecom_data_df.groupby(\"seller_id\")\n",
    "    .agg(\n",
    "        total_sales=(\"price\", \"sum\"),\n",
    "        total_freight=(\"freight_value\", \"sum\"),\n",
    "        total_orders=(\"order_id\", \"nunique\"),\n",
    "        avg_delivery_time=(\n",
    "            \"total_delivery_time\",\n",
    "            \"mean\",\n",
    "        ),\n",
    "        avg_delivery_vs_estimate=(\n",
    "            \"delivery_vs_estimate\",\n",
    "            \"mean\",\n",
    "        ),  # if value is negative thats mean is good\n",
    "    )\n",
    "    .reset_index()\n",
    ")"
   ]
  },
  {
   "cell_type": "code",
   "execution_count": 6,
   "id": "eea12ccf",
   "metadata": {},
   "outputs": [],
   "source": [
    "# calculate total revenue(price(total_sales) + freight(total_freight))\n",
    "seller_summary[\"total_revenue\"] = (\n",
    "    seller_summary[\"total_sales\"] + seller_summary[\"total_freight\"]\n",
    ")"
   ]
  },
  {
   "cell_type": "code",
   "execution_count": 8,
   "id": "2cec2990",
   "metadata": {},
   "outputs": [
    {
     "name": "stdout",
     "output_type": "stream",
     "text": [
      "Shape of seller_summary: (1347, 7)\n"
     ]
    },
    {
     "data": {
      "text/html": [
       "<div>\n",
       "<style scoped>\n",
       "    .dataframe tbody tr th:only-of-type {\n",
       "        vertical-align: middle;\n",
       "    }\n",
       "\n",
       "    .dataframe tbody tr th {\n",
       "        vertical-align: top;\n",
       "    }\n",
       "\n",
       "    .dataframe thead th {\n",
       "        text-align: right;\n",
       "    }\n",
       "</style>\n",
       "<table border=\"1\" class=\"dataframe\">\n",
       "  <thead>\n",
       "    <tr style=\"text-align: right;\">\n",
       "      <th></th>\n",
       "      <th>seller_id</th>\n",
       "      <th>total_sales</th>\n",
       "      <th>total_freight</th>\n",
       "      <th>total_orders</th>\n",
       "      <th>avg_delivery_time</th>\n",
       "      <th>avg_delivery_vs_estimate</th>\n",
       "      <th>total_revenue</th>\n",
       "    </tr>\n",
       "  </thead>\n",
       "  <tbody>\n",
       "    <tr>\n",
       "      <th>1183</th>\n",
       "      <td>dfc475d54e1b6dbeeb7d7d9bdaa63827</td>\n",
       "      <td>375.80</td>\n",
       "      <td>92.03</td>\n",
       "      <td>3</td>\n",
       "      <td>7.576950</td>\n",
       "      <td>-13.067211</td>\n",
       "      <td>467.83</td>\n",
       "    </tr>\n",
       "    <tr>\n",
       "      <th>458</th>\n",
       "      <td>5962468f885ea01a1b6a97a218797b0a</td>\n",
       "      <td>149.00</td>\n",
       "      <td>16.48</td>\n",
       "      <td>1</td>\n",
       "      <td>9.642442</td>\n",
       "      <td>-16.304074</td>\n",
       "      <td>165.48</td>\n",
       "    </tr>\n",
       "    <tr>\n",
       "      <th>1210</th>\n",
       "      <td>e601b04acf48b4576e73ddca9481f0dc</td>\n",
       "      <td>16.49</td>\n",
       "      <td>18.23</td>\n",
       "      <td>1</td>\n",
       "      <td>6.263021</td>\n",
       "      <td>-24.390023</td>\n",
       "      <td>34.72</td>\n",
       "    </tr>\n",
       "    <tr>\n",
       "      <th>905</th>\n",
       "      <td>aaed1309374718fdd995ee4c58c9dfcd</td>\n",
       "      <td>495.20</td>\n",
       "      <td>89.81</td>\n",
       "      <td>5</td>\n",
       "      <td>9.975343</td>\n",
       "      <td>-16.168694</td>\n",
       "      <td>585.01</td>\n",
       "    </tr>\n",
       "    <tr>\n",
       "      <th>654</th>\n",
       "      <td>7a188843479798ca813108fa7b959286</td>\n",
       "      <td>49.90</td>\n",
       "      <td>8.72</td>\n",
       "      <td>1</td>\n",
       "      <td>NaN</td>\n",
       "      <td>NaN</td>\n",
       "      <td>58.62</td>\n",
       "    </tr>\n",
       "  </tbody>\n",
       "</table>\n",
       "</div>"
      ],
      "text/plain": [
       "                             seller_id  total_sales  total_freight  \\\n",
       "1183  dfc475d54e1b6dbeeb7d7d9bdaa63827       375.80          92.03   \n",
       "458   5962468f885ea01a1b6a97a218797b0a       149.00          16.48   \n",
       "1210  e601b04acf48b4576e73ddca9481f0dc        16.49          18.23   \n",
       "905   aaed1309374718fdd995ee4c58c9dfcd       495.20          89.81   \n",
       "654   7a188843479798ca813108fa7b959286        49.90           8.72   \n",
       "\n",
       "      total_orders  avg_delivery_time  avg_delivery_vs_estimate  total_revenue  \n",
       "1183             3           7.576950                -13.067211         467.83  \n",
       "458              1           9.642442                -16.304074         165.48  \n",
       "1210             1           6.263021                -24.390023          34.72  \n",
       "905              5           9.975343                -16.168694         585.01  \n",
       "654              1                NaN                       NaN          58.62  "
      ]
     },
     "metadata": {},
     "output_type": "display_data"
    }
   ],
   "source": [
    "print(f\"Shape of seller_summary: {seller_summary.shape}\")\n",
    "display(seller_summary.sample(5))"
   ]
  },
  {
   "cell_type": "code",
   "execution_count": null,
   "id": "69f4896b",
   "metadata": {},
   "outputs": [],
   "source": []
  }
 ],
 "metadata": {
  "kernelspec": {
   "display_name": "base",
   "language": "python",
   "name": "python3"
  },
  "language_info": {
   "codemirror_mode": {
    "name": "ipython",
    "version": 3
   },
   "file_extension": ".py",
   "mimetype": "text/x-python",
   "name": "python",
   "nbconvert_exporter": "python",
   "pygments_lexer": "ipython3",
   "version": "3.12.7"
  }
 },
 "nbformat": 4,
 "nbformat_minor": 5
}
