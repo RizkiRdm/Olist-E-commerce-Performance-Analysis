{
 "cells": [
  {
   "cell_type": "markdown",
   "id": "af586285",
   "metadata": {},
   "source": [
    "# Seller Analysis"
   ]
  },
  {
   "cell_type": "code",
   "execution_count": 1,
   "id": "ae461706",
   "metadata": {},
   "outputs": [],
   "source": [
    "import pandas as pd\n",
    "import matplotlib.pyplot as plt\n",
    "import seaborn as sns\n",
    "\n",
    "pd.set_option(\"display.max_columns\", None)\n",
    "pd.set_option(\"display.max_rows\", None)\n",
    "\n",
    "\n",
    "sns.set_style(\"whitegrid\")\n",
    "plt.rcParams[\"figure.figsize\"] = (10, 6)\n",
    "plt.rcParams[\"font.size\"] = 12"
   ]
  },
  {
   "cell_type": "code",
   "execution_count": 2,
   "id": "96203742",
   "metadata": {},
   "outputs": [],
   "source": [
    "ecom_data_df = pd.read_parquet(\"../data/olist_ecom.parquet\")"
   ]
  },
  {
   "cell_type": "markdown",
   "id": "3efee7d3",
   "metadata": {},
   "source": [
    "## Aggregate Seller Performance Metrics"
   ]
  },
  {
   "cell_type": "code",
   "execution_count": null,
   "id": "507b2be7",
   "metadata": {},
   "outputs": [],
   "source": [
    "seller_summary = (\n",
    "    ecom_data_df.groupby(\"seller_id\")\n",
    "    .agg(\n",
    "        total_sales=(\"price\", \"sum\"),\n",
    "        total_freight=(\"freight_value\", \"sum\"),\n",
    "        total_orders=(\"order_id\", \"nunique\"),\n",
    "        avg_delivery_time=(\n",
    "            \"total_delivery_time\",\n",
    "            \"mean\",\n",
    "        ),\n",
    "        avg_delivery_vs_estimate=(\n",
    "            \"delivery_vs_estimate\",\n",
    "            \"mean\",\n",
    "        ),  # if value is negative thats mean is good\n",
    "    )\n",
    "    .reset_index()\n",
    ")"
   ]
  },
  {
   "cell_type": "code",
   "execution_count": 6,
   "id": "eea12ccf",
   "metadata": {},
   "outputs": [],
   "source": [
    "# calculate total revenue(price(total_sales) + freight(total_freight))\n",
    "seller_summary[\"total_revenue\"] = (\n",
    "    seller_summary[\"total_sales\"] + seller_summary[\"total_freight\"]\n",
    ")"
   ]
  },
  {
   "cell_type": "code",
   "execution_count": 8,
   "id": "2cec2990",
   "metadata": {},
   "outputs": [
    {
     "name": "stdout",
     "output_type": "stream",
     "text": [
      "Shape of seller_summary: (1347, 7)\n"
     ]
    },
    {
     "data": {
      "text/html": [
       "<div>\n",
       "<style scoped>\n",
       "    .dataframe tbody tr th:only-of-type {\n",
       "        vertical-align: middle;\n",
       "    }\n",
       "\n",
       "    .dataframe tbody tr th {\n",
       "        vertical-align: top;\n",
       "    }\n",
       "\n",
       "    .dataframe thead th {\n",
       "        text-align: right;\n",
       "    }\n",
       "</style>\n",
       "<table border=\"1\" class=\"dataframe\">\n",
       "  <thead>\n",
       "    <tr style=\"text-align: right;\">\n",
       "      <th></th>\n",
       "      <th>seller_id</th>\n",
       "      <th>total_sales</th>\n",
       "      <th>total_freight</th>\n",
       "      <th>total_orders</th>\n",
       "      <th>avg_delivery_time</th>\n",
       "      <th>avg_delivery_vs_estimate</th>\n",
       "      <th>total_revenue</th>\n",
       "    </tr>\n",
       "  </thead>\n",
       "  <tbody>\n",
       "    <tr>\n",
       "      <th>1183</th>\n",
       "      <td>dfc475d54e1b6dbeeb7d7d9bdaa63827</td>\n",
       "      <td>375.80</td>\n",
       "      <td>92.03</td>\n",
       "      <td>3</td>\n",
       "      <td>7.576950</td>\n",
       "      <td>-13.067211</td>\n",
       "      <td>467.83</td>\n",
       "    </tr>\n",
       "    <tr>\n",
       "      <th>458</th>\n",
       "      <td>5962468f885ea01a1b6a97a218797b0a</td>\n",
       "      <td>149.00</td>\n",
       "      <td>16.48</td>\n",
       "      <td>1</td>\n",
       "      <td>9.642442</td>\n",
       "      <td>-16.304074</td>\n",
       "      <td>165.48</td>\n",
       "    </tr>\n",
       "    <tr>\n",
       "      <th>1210</th>\n",
       "      <td>e601b04acf48b4576e73ddca9481f0dc</td>\n",
       "      <td>16.49</td>\n",
       "      <td>18.23</td>\n",
       "      <td>1</td>\n",
       "      <td>6.263021</td>\n",
       "      <td>-24.390023</td>\n",
       "      <td>34.72</td>\n",
       "    </tr>\n",
       "    <tr>\n",
       "      <th>905</th>\n",
       "      <td>aaed1309374718fdd995ee4c58c9dfcd</td>\n",
       "      <td>495.20</td>\n",
       "      <td>89.81</td>\n",
       "      <td>5</td>\n",
       "      <td>9.975343</td>\n",
       "      <td>-16.168694</td>\n",
       "      <td>585.01</td>\n",
       "    </tr>\n",
       "    <tr>\n",
       "      <th>654</th>\n",
       "      <td>7a188843479798ca813108fa7b959286</td>\n",
       "      <td>49.90</td>\n",
       "      <td>8.72</td>\n",
       "      <td>1</td>\n",
       "      <td>NaN</td>\n",
       "      <td>NaN</td>\n",
       "      <td>58.62</td>\n",
       "    </tr>\n",
       "  </tbody>\n",
       "</table>\n",
       "</div>"
      ],
      "text/plain": [
       "                             seller_id  total_sales  total_freight  \\\n",
       "1183  dfc475d54e1b6dbeeb7d7d9bdaa63827       375.80          92.03   \n",
       "458   5962468f885ea01a1b6a97a218797b0a       149.00          16.48   \n",
       "1210  e601b04acf48b4576e73ddca9481f0dc        16.49          18.23   \n",
       "905   aaed1309374718fdd995ee4c58c9dfcd       495.20          89.81   \n",
       "654   7a188843479798ca813108fa7b959286        49.90           8.72   \n",
       "\n",
       "      total_orders  avg_delivery_time  avg_delivery_vs_estimate  total_revenue  \n",
       "1183             3           7.576950                -13.067211         467.83  \n",
       "458              1           9.642442                -16.304074         165.48  \n",
       "1210             1           6.263021                -24.390023          34.72  \n",
       "905              5           9.975343                -16.168694         585.01  \n",
       "654              1                NaN                       NaN          58.62  "
      ]
     },
     "metadata": {},
     "output_type": "display_data"
    }
   ],
   "source": [
    "print(f\"Shape of seller_summary: {seller_summary.shape}\")\n",
    "display(seller_summary.sample(5))"
   ]
  },
  {
   "cell_type": "markdown",
   "id": "69f4896b",
   "metadata": {},
   "source": [
    "## Identify Top/Bottom Sellers (Table Output)"
   ]
  },
  {
   "cell_type": "code",
   "execution_count": 9,
   "id": "fcb1c0bf",
   "metadata": {},
   "outputs": [],
   "source": [
    "top_sellers_by_revenue = seller_summary.sort_values(\n",
    "    by=\"total_revenue\", ascending=False\n",
    ").head(10)"
   ]
  },
  {
   "cell_type": "code",
   "execution_count": null,
   "id": "f5d79be3",
   "metadata": {},
   "outputs": [
    {
     "name": "stdout",
     "output_type": "stream",
     "text": [
      "Top 10 seller based total revenue\n"
     ]
    },
    {
     "data": {
      "text/html": [
       "<div>\n",
       "<style scoped>\n",
       "    .dataframe tbody tr th:only-of-type {\n",
       "        vertical-align: middle;\n",
       "    }\n",
       "\n",
       "    .dataframe tbody tr th {\n",
       "        vertical-align: top;\n",
       "    }\n",
       "\n",
       "    .dataframe thead th {\n",
       "        text-align: right;\n",
       "    }\n",
       "</style>\n",
       "<table border=\"1\" class=\"dataframe\">\n",
       "  <thead>\n",
       "    <tr style=\"text-align: right;\">\n",
       "      <th></th>\n",
       "      <th>seller_id</th>\n",
       "      <th>total_revenue</th>\n",
       "      <th>total_orders</th>\n",
       "    </tr>\n",
       "  </thead>\n",
       "  <tbody>\n",
       "    <tr>\n",
       "      <th>371</th>\n",
       "      <td>4869f7a5dfa277a7dca6462dcf3b52b2</td>\n",
       "      <td>19515.53</td>\n",
       "      <td>91</td>\n",
       "    </tr>\n",
       "    <tr>\n",
       "      <th>670</th>\n",
       "      <td>7c67e1448b00f6e969d365cea6b010ab</td>\n",
       "      <td>18989.84</td>\n",
       "      <td>79</td>\n",
       "    </tr>\n",
       "    <tr>\n",
       "      <th>379</th>\n",
       "      <td>4a3ca9315b744ce9f8e9374361493884</td>\n",
       "      <td>18421.86</td>\n",
       "      <td>155</td>\n",
       "    </tr>\n",
       "    <tr>\n",
       "      <th>1319</th>\n",
       "      <td>fa1c13f2614d7b5c4749cbc52fecda94</td>\n",
       "      <td>18019.70</td>\n",
       "      <td>41</td>\n",
       "    </tr>\n",
       "    <tr>\n",
       "      <th>429</th>\n",
       "      <td>53243585a1d6dc2643021fd1853d8905</td>\n",
       "      <td>16861.98</td>\n",
       "      <td>23</td>\n",
       "    </tr>\n",
       "    <tr>\n",
       "      <th>680</th>\n",
       "      <td>7e93a43ef30c4f03f38b393420bc753a</td>\n",
       "      <td>14319.41</td>\n",
       "      <td>22</td>\n",
       "    </tr>\n",
       "    <tr>\n",
       "      <th>508</th>\n",
       "      <td>620c87c171fb2a6dd6e8bb4dec959fc6</td>\n",
       "      <td>10739.07</td>\n",
       "      <td>61</td>\n",
       "    </tr>\n",
       "    <tr>\n",
       "      <th>1307</th>\n",
       "      <td>f7ba60f8c3f99e7ee4042fdef03b70c4</td>\n",
       "      <td>10730.06</td>\n",
       "      <td>28</td>\n",
       "    </tr>\n",
       "    <tr>\n",
       "      <th>173</th>\n",
       "      <td>1f50f920176fa81dab994f9023523100</td>\n",
       "      <td>10259.04</td>\n",
       "      <td>117</td>\n",
       "    </tr>\n",
       "    <tr>\n",
       "      <th>1154</th>\n",
       "      <td>da8622b14eb17ae2831f4ac5b9dab84a</td>\n",
       "      <td>9940.69</td>\n",
       "      <td>93</td>\n",
       "    </tr>\n",
       "  </tbody>\n",
       "</table>\n",
       "</div>"
      ],
      "text/plain": [
       "                             seller_id  total_revenue  total_orders\n",
       "371   4869f7a5dfa277a7dca6462dcf3b52b2       19515.53            91\n",
       "670   7c67e1448b00f6e969d365cea6b010ab       18989.84            79\n",
       "379   4a3ca9315b744ce9f8e9374361493884       18421.86           155\n",
       "1319  fa1c13f2614d7b5c4749cbc52fecda94       18019.70            41\n",
       "429   53243585a1d6dc2643021fd1853d8905       16861.98            23\n",
       "680   7e93a43ef30c4f03f38b393420bc753a       14319.41            22\n",
       "508   620c87c171fb2a6dd6e8bb4dec959fc6       10739.07            61\n",
       "1307  f7ba60f8c3f99e7ee4042fdef03b70c4       10730.06            28\n",
       "173   1f50f920176fa81dab994f9023523100       10259.04           117\n",
       "1154  da8622b14eb17ae2831f4ac5b9dab84a        9940.69            93"
      ]
     },
     "metadata": {},
     "output_type": "display_data"
    }
   ],
   "source": [
    "print(\"Top 10 seller based total revenue\")\n",
    "display(top_sellers_by_revenue[[\"seller_id\", \"total_revenue\", \"total_orders\"]])"
   ]
  },
  {
   "cell_type": "code",
   "execution_count": 16,
   "id": "47a42166",
   "metadata": {},
   "outputs": [],
   "source": [
    "top_sellers_by_orders = seller_summary.sort_values(\n",
    "    by=\"total_orders\", ascending=False\n",
    ").head(10)"
   ]
  },
  {
   "cell_type": "code",
   "execution_count": 18,
   "id": "30afaafa",
   "metadata": {},
   "outputs": [
    {
     "name": "stdout",
     "output_type": "stream",
     "text": [
      "Top 10 seller based total orders\n"
     ]
    },
    {
     "data": {
      "text/html": [
       "<div>\n",
       "<style scoped>\n",
       "    .dataframe tbody tr th:only-of-type {\n",
       "        vertical-align: middle;\n",
       "    }\n",
       "\n",
       "    .dataframe tbody tr th {\n",
       "        vertical-align: top;\n",
       "    }\n",
       "\n",
       "    .dataframe thead th {\n",
       "        text-align: right;\n",
       "    }\n",
       "</style>\n",
       "<table border=\"1\" class=\"dataframe\">\n",
       "  <thead>\n",
       "    <tr style=\"text-align: right;\">\n",
       "      <th></th>\n",
       "      <th>seller_id</th>\n",
       "      <th>total_revenue</th>\n",
       "      <th>total_orders</th>\n",
       "    </tr>\n",
       "  </thead>\n",
       "  <tbody>\n",
       "    <tr>\n",
       "      <th>379</th>\n",
       "      <td>4a3ca9315b744ce9f8e9374361493884</td>\n",
       "      <td>18421.86</td>\n",
       "      <td>155</td>\n",
       "    </tr>\n",
       "    <tr>\n",
       "      <th>173</th>\n",
       "      <td>1f50f920176fa81dab994f9023523100</td>\n",
       "      <td>10259.04</td>\n",
       "      <td>117</td>\n",
       "    </tr>\n",
       "    <tr>\n",
       "      <th>525</th>\n",
       "      <td>6560211a19b47992c3666cc44a7e94c0</td>\n",
       "      <td>8625.41</td>\n",
       "      <td>114</td>\n",
       "    </tr>\n",
       "    <tr>\n",
       "      <th>1077</th>\n",
       "      <td>cc419e0650a3c5ba77189a1882b7556a</td>\n",
       "      <td>7946.14</td>\n",
       "      <td>112</td>\n",
       "    </tr>\n",
       "    <tr>\n",
       "      <th>1154</th>\n",
       "      <td>da8622b14eb17ae2831f4ac5b9dab84a</td>\n",
       "      <td>9940.69</td>\n",
       "      <td>93</td>\n",
       "    </tr>\n",
       "    <tr>\n",
       "      <th>371</th>\n",
       "      <td>4869f7a5dfa277a7dca6462dcf3b52b2</td>\n",
       "      <td>19515.53</td>\n",
       "      <td>91</td>\n",
       "    </tr>\n",
       "    <tr>\n",
       "      <th>1237</th>\n",
       "      <td>ea8482cd71df3c1969d7b9473ff13abc</td>\n",
       "      <td>3905.84</td>\n",
       "      <td>87</td>\n",
       "    </tr>\n",
       "    <tr>\n",
       "      <th>670</th>\n",
       "      <td>7c67e1448b00f6e969d365cea6b010ab</td>\n",
       "      <td>18989.84</td>\n",
       "      <td>79</td>\n",
       "    </tr>\n",
       "    <tr>\n",
       "      <th>320</th>\n",
       "      <td>3d871de0142ce09b7081e2b9d1733cb1</td>\n",
       "      <td>7758.42</td>\n",
       "      <td>73</td>\n",
       "    </tr>\n",
       "    <tr>\n",
       "      <th>508</th>\n",
       "      <td>620c87c171fb2a6dd6e8bb4dec959fc6</td>\n",
       "      <td>10739.07</td>\n",
       "      <td>61</td>\n",
       "    </tr>\n",
       "  </tbody>\n",
       "</table>\n",
       "</div>"
      ],
      "text/plain": [
       "                             seller_id  total_revenue  total_orders\n",
       "379   4a3ca9315b744ce9f8e9374361493884       18421.86           155\n",
       "173   1f50f920176fa81dab994f9023523100       10259.04           117\n",
       "525   6560211a19b47992c3666cc44a7e94c0        8625.41           114\n",
       "1077  cc419e0650a3c5ba77189a1882b7556a        7946.14           112\n",
       "1154  da8622b14eb17ae2831f4ac5b9dab84a        9940.69            93\n",
       "371   4869f7a5dfa277a7dca6462dcf3b52b2       19515.53            91\n",
       "1237  ea8482cd71df3c1969d7b9473ff13abc        3905.84            87\n",
       "670   7c67e1448b00f6e969d365cea6b010ab       18989.84            79\n",
       "320   3d871de0142ce09b7081e2b9d1733cb1        7758.42            73\n",
       "508   620c87c171fb2a6dd6e8bb4dec959fc6       10739.07            61"
      ]
     },
     "metadata": {},
     "output_type": "display_data"
    }
   ],
   "source": [
    "print(\"Top 10 seller based total orders\")\n",
    "display(top_sellers_by_orders[[\"seller_id\", \"total_revenue\", \"total_orders\"]])"
   ]
  }
 ],
 "metadata": {
  "kernelspec": {
   "display_name": "base",
   "language": "python",
   "name": "python3"
  },
  "language_info": {
   "codemirror_mode": {
    "name": "ipython",
    "version": 3
   },
   "file_extension": ".py",
   "mimetype": "text/x-python",
   "name": "python",
   "nbconvert_exporter": "python",
   "pygments_lexer": "ipython3",
   "version": "3.12.7"
  }
 },
 "nbformat": 4,
 "nbformat_minor": 5
}
