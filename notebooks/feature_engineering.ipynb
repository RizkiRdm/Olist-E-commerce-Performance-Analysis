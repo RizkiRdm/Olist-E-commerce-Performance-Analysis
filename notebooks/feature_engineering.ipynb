{
 "cells": [
  {
   "cell_type": "markdown",
   "id": "cd98b2d8",
   "metadata": {},
   "source": [
    "# Feature Engineering"
   ]
  },
  {
   "cell_type": "code",
   "execution_count": null,
   "id": "3dd4984d",
   "metadata": {},
   "outputs": [],
   "source": [
    "import pandas as pd\n",
    "import numpy as np\n",
    "import matplotlib.pyplot as plt\n",
    "import seaborn as sns"
   ]
  },
  {
   "cell_type": "markdown",
   "id": "2d66bb68",
   "metadata": {},
   "source": [
    "## Load Data"
   ]
  },
  {
   "cell_type": "code",
   "execution_count": null,
   "id": "2114a709",
   "metadata": {},
   "outputs": [],
   "source": [
    "ecom_data_df = pd.read_parquet(\"../dataset/processed/olist_ecom_cleaned.parquet\")"
   ]
  },
  {
   "cell_type": "code",
   "execution_count": null,
   "id": "da5895e5",
   "metadata": {},
   "outputs": [],
   "source": [
    "ecom_data_df.info()"
   ]
  },
  {
   "cell_type": "code",
   "execution_count": null,
   "id": "f6cdc693",
   "metadata": {},
   "outputs": [],
   "source": [
    "print(ecom_data_df.dtypes)"
   ]
  },
  {
   "cell_type": "markdown",
   "id": "cd82ec76",
   "metadata": {},
   "source": [
    "Change data type 'customer_zip_code_prefix' to object"
   ]
  },
  {
   "cell_type": "code",
   "execution_count": null,
   "id": "7b6bbff9",
   "metadata": {},
   "outputs": [],
   "source": [
    "print(\n",
    "    f\"data type before replace the data type: {ecom_data_df['customer_zip_code_prefix'].dtype}\"\n",
    ")\n",
    "\n",
    "# change the data type\n",
    "ecom_data_df[\"customer_zip_code_prefix\"] = ecom_data_df[\n",
    "    \"customer_zip_code_prefix\"\n",
    "].astype(object)\n",
    "\n",
    "print(\n",
    "    f\"data type after replace the data type: {ecom_data_df['customer_zip_code_prefix'].dtype}\"\n",
    ")"
   ]
  },
  {
   "cell_type": "markdown",
   "id": "932d7c51",
   "metadata": {},
   "source": [
    "## Make feature base time"
   ]
  },
  {
   "cell_type": "code",
   "execution_count": null,
   "id": "0af87c5d",
   "metadata": {},
   "outputs": [],
   "source": [
    "def calculate_duration(df, start_date_col, end_date_col, unit=\"days\"):\n",
    "    \"\"\"\n",
    "    calculate two column date durration in preferred unit\n",
    "    Args:\n",
    "        df (pd.DataFrame): DataFrame input.\n",
    "        start_date_col (str): start column name.\n",
    "        end_date_col (str): end column name.\n",
    "        unit (str): unit preferred('days', 'hours', 'seconds').\n",
    "\n",
    "    Returns:\n",
    "        pd.Series: result durration that contains calculations.\n",
    "                   return NaN if wrong or onf of NaT input dates.\n",
    "    \"\"\"\n",
    "    # calculate timedelta (time gap)\n",
    "    duration_timedelta = df[end_date_col] - df[start_date_col]\n",
    "\n",
    "    # convert timedelta to total second time\n",
    "    duration_seconds = duration_timedelta.dt.total_seconds()\n",
    "\n",
    "    # convert total second time to preferred unit\n",
    "    if unit == \"seconds\":\n",
    "        return duration_seconds\n",
    "    elif unit == \"hours\":\n",
    "        return duration_seconds / 3600\n",
    "    elif unit == \"days\":\n",
    "        return duration_seconds / (24 * 3600)\n",
    "\n",
    "    else:\n",
    "        raise ValueError(\n",
    "            f\"unit is not supported: {unit}. choose 'days', 'hours', 'seconds'.\"\n",
    "        )"
   ]
  },
  {
   "cell_type": "code",
   "execution_count": null,
   "id": "c660e658",
   "metadata": {},
   "outputs": [],
   "source": [
    "# Define the specifications for each duration calculation\n",
    "# Each tuple contains: (new_column_name, start_date_column, end_date_column)\n",
    "duration_specs = [\n",
    "    (\"time_to_approve\", \"order_purchase_timestamp\", \"order_approved_at\"),\n",
    "    (\"time_to_carrier\", \"order_approved_at\", \"order_delivered_carrier_date\"),\n",
    "    (\"shipping_time\", \"order_delivered_carrier_date\", \"order_delivered_customer_date\"),\n",
    "    (\n",
    "        \"total_delivery_time\",\n",
    "        \"order_purchase_timestamp\",\n",
    "        \"order_delivered_customer_date\",\n",
    "    ),\n",
    "    (\n",
    "        \"delivery_vs_estimate\",\n",
    "        \"order_estimated_delivery_date\",\n",
    "        \"order_delivered_customer_date\",\n",
    "    ),\n",
    "]\n",
    "\n",
    "# Define the unit for all calculations (assuming it's the same for now)\n",
    "calculation_unit = \"days\"\n",
    "\n",
    "print(f\"--- Creating Time-Based Features (Unit: {calculation_unit}) ---\")\n",
    "\n",
    "# Loop through the specifications and calculate/assign the duration for each\n",
    "for new_col_name, start_col, end_col in duration_specs:\n",
    "    if start_col in ecom_data_df.columns and end_col in ecom_data_df.columns:\n",
    "        ecom_data_df[new_col_name] = calculate_duration(\n",
    "            ecom_data_df, start_col, end_col, calculation_unit\n",
    "        )\n",
    "        print(f\"Created column: '{new_col_name}'\")\n",
    "    else:\n",
    "        print(\n",
    "            f\"Warning: Skipping '{new_col_name}'. Start column '{start_col}' or end column '{end_col}' not found.\"\n",
    "        )\n",
    "\n",
    "print(\n",
    "    f\"Columns created:\\n{[col for col in ecom_data_df.columns if col in [spec[0] for spec in duration_specs]]}\"\n",
    ")\n",
    "print(\"Time-based features creation complete!\")"
   ]
  },
  {
   "cell_type": "markdown",
   "id": "3d03ddac",
   "metadata": {},
   "source": [
    "## Investigate Order-Payment Relationship & Create Order Level (Non-Payment) Feature"
   ]
  },
  {
   "cell_type": "code",
   "execution_count": null,
   "id": "0d4b653e",
   "metadata": {},
   "outputs": [],
   "source": [
    "print(\"-- Investigate relations order-payment --\")\n",
    "\n",
    "# Count how many rows for each order_id\n",
    "order_id_counts = ecom_data_df[\"order_id\"].value_counts()\n",
    "\n",
    "# identification order_id that appears more than once (orders with multi-item or multi-payment)\n",
    "multiple_rows_order_ids = order_id_counts[order_id_counts > 1].index.tolist()\n",
    "\n",
    "print(f\"unique number of order_id: {len(order_id_counts)}\")\n",
    "print(f\"total order_id with multiple rows: {len(multiple_rows_order_ids)}\")\n",
    "\n",
    "if multiple_rows_order_ids:\n",
    "    sample_order_id = multiple_rows_order_ids[0]\n",
    "    print(\n",
    "        f\"Payment details for sample order_id with multiple rows ({sample_order_id}):\"\n",
    "    )\n",
    "    display(\n",
    "        ecom_data_df[ecom_data_df[\"order_id\"] == sample_order_id][\n",
    "            [\n",
    "                \"order_id\",\n",
    "                \"payment_sequential\",\n",
    "                \"payment_type\",\n",
    "                \"payment_installments\",\n",
    "                \"payment_value\",\n",
    "                \"price\",\n",
    "                \"freight_value\",\n",
    "            ]\n",
    "        ].head()\n",
    "    )\n",
    "    print(f\"total number of multiple rows: {len(ecom_data_df[ecom_data_df[\"order_id\"] == sample_order_id])}\")\n",
    "else:\n",
    "    print(\n",
    "        \"No order_id with multiple rows was found in the DataFrame (after this cleanup).\"\n",
    "    )"
   ]
  },
  {
   "cell_type": "markdown",
   "id": "5cedc4d0",
   "metadata": {},
   "source": [
    "## Make feature level Comprehensif Order"
   ]
  },
  {
   "cell_type": "code",
   "execution_count": null,
   "id": "14fb1932",
   "metadata": {},
   "outputs": [],
   "source": [
    "# Aggregate data from level item/payment to level order_id\n",
    "order_level_features_df = (\n",
    "    ecom_data_df.groupby(\"order_id\")\n",
    "    .agg(\n",
    "        # moneter feature\n",
    "        total_payment_value=(\"payment_value\", \"sum\"),\n",
    "        total_item_price=(\"price\", \"sum\"),\n",
    "        total_freight_value=(\"freight_value\", \"sum\"),\n",
    "        # item/product feature\n",
    "        number_of_rows_in_orders=(\"order_item_id\", \"count\"),\n",
    "        number_of_unique_products=(\"product_id\", lambda x: x.nunique()),\n",
    "        # payment feature\n",
    "        max_payment_sequential=(\"payment_sequential\", \"max\"),\n",
    "        number_of_unique_payment_types=(\"payment_type\", lambda x: x.nunique()),\n",
    "        max_payment_installments=(\"payment_installments\", \"max\"),\n",
    "    )\n",
    "    .reset_index()\n",
    ")"
   ]
  },
  {
   "cell_type": "code",
   "execution_count": null,
   "id": "e651e52c",
   "metadata": {},
   "outputs": [],
   "source": [
    "if isinstance(order_level_features_df, pd.DataFrame):\n",
    "    print(\"Verification: The created object is indeed a pandas DataFrame.\")\n",
    "    display(order_level_features_df.head())\n",
    "    print(order_level_features_df.info())\n",
    "else:\n",
    "    print(\"Verification Warning: The created object is NOT a pandas DataFrame.\")"
   ]
  },
  {
   "cell_type": "markdown",
   "id": "bb858956",
   "metadata": {},
   "source": [
    "## RFM Analysis"
   ]
  },
  {
   "cell_type": "code",
   "execution_count": null,
   "id": "e5b8dc64",
   "metadata": {},
   "outputs": [],
   "source": [
    "order_customer_mapping = ecom_data_df[\n",
    "    [\"order_id\", \"customer_unique_id\"]\n",
    "].drop_duplicates()\n",
    "\n",
    "# merge mapping using 'order_id'\n",
    "order_level_features_df = pd.merge(\n",
    "    order_level_features_df, order_customer_mapping, how=\"left\", on=\"order_id\"\n",
    ")\n",
    "\n",
    "if isinstance(order_level_features_df, pd.DataFrame):\n",
    "    print(\"Verification: The created object is indeed a pandas DataFrame.\")\n",
    "    display(\n",
    "        order_level_features_df[\n",
    "            [\"order_id\", \"customer_unique_id\", \"total_payment_value\"]\n",
    "        ].head()\n",
    "    )\n",
    "else:\n",
    "    print(\"Verification Warning: The created object is NOT a pandas DataFrame.\")"
   ]
  },
  {
   "cell_type": "markdown",
   "id": "df1bdb52",
   "metadata": {},
   "source": [
    "Calculate Frequency (F) and Monetary (M) per customer"
   ]
  },
  {
   "cell_type": "code",
   "execution_count": null,
   "id": "7b34f629",
   "metadata": {},
   "outputs": [],
   "source": [
    "# aggregate dataframe 'order_level_features_df' base 'customer_unique_id'\n",
    "customer_rfm_fm_df = (\n",
    "    order_level_features_df.groupby(\"customer_unique_id\")\n",
    "    .agg(\n",
    "        frequency=(\"order_id\", \"count\"),\n",
    "        monetary=(\"total_payment_value\", \"sum\"),\n",
    "    )\n",
    "    .reset_index()\n",
    ")"
   ]
  },
  {
   "cell_type": "code",
   "execution_count": null,
   "id": "8d538535",
   "metadata": {},
   "outputs": [],
   "source": [
    "if isinstance(customer_rfm_fm_df, pd.DataFrame):\n",
    "    print(\"Verification: The created object is indeed a pandas DataFrame.\")\n",
    "    display(customer_rfm_fm_df.head())\n",
    "    print(customer_rfm_fm_df.info())\n",
    "else:\n",
    "    print(\"Verification Warning: The created object is NOT a pandas DataFrame.\")"
   ]
  },
  {
   "cell_type": "markdown",
   "id": "5312b112",
   "metadata": {},
   "source": [
    "identify Snapshot Date Recency"
   ]
  },
  {
   "cell_type": "code",
   "execution_count": null,
   "id": "4eb30e25",
   "metadata": {},
   "outputs": [],
   "source": [
    "latest_order_date = ecom_data_df[\"order_purchase_timestamp\"].max()\n",
    "print(f\"latest order date: {latest_order_date}\")"
   ]
  },
  {
   "cell_type": "markdown",
   "id": "b7478d79",
   "metadata": {},
   "source": [
    "Set Final Date Recency"
   ]
  },
  {
   "cell_type": "code",
   "execution_count": null,
   "id": "d8e0ca28",
   "metadata": {},
   "outputs": [],
   "source": [
    "snaphot_date = latest_order_date + pd.Timedelta(days=1)\n",
    "print(f\"snapshot date recency: {snaphot_date}\")"
   ]
  },
  {
   "cell_type": "markdown",
   "id": "a54a5702",
   "metadata": {},
   "source": [
    "Identify Last Order Date per Customer"
   ]
  },
  {
   "cell_type": "code",
   "execution_count": null,
   "id": "3fb4fb6c",
   "metadata": {},
   "outputs": [],
   "source": [
    "latest_order_per_customer = (\n",
    "    ecom_data_df.groupby(\"customer_unique_id\")[\"order_purchase_timestamp\"]\n",
    "    .max()\n",
    "    .reset_index()\n",
    ")"
   ]
  },
  {
   "cell_type": "markdown",
   "id": "95e0a234",
   "metadata": {},
   "source": [
    "Calculate Recency (R)"
   ]
  },
  {
   "cell_type": "markdown",
   "id": "13d21003",
   "metadata": {},
   "source": [
    "calculate the difference between days `snapshot_date` and the date of their last order `latest_order_per_customer`."
   ]
  },
  {
   "cell_type": "code",
   "execution_count": null,
   "id": "3e9ea5e7",
   "metadata": {},
   "outputs": [],
   "source": [
    "latest_order_per_customer[\"Recency\"] = (\n",
    "    snaphot_date - latest_order_per_customer[\"order_purchase_timestamp\"]\n",
    ").dt.days\n",
    "\n",
    "# change data type 'Recency' from object to number\n",
    "latest_order_per_customer[\"Recency\"] = latest_order_per_customer[\"Recency\"].astype(int)"
   ]
  },
  {
   "cell_type": "code",
   "execution_count": null,
   "id": "066134e9",
   "metadata": {},
   "outputs": [],
   "source": [
    "display(latest_order_per_customer.head())\n",
    "print(latest_order_per_customer.info())"
   ]
  },
  {
   "cell_type": "markdown",
   "id": "069b18d9",
   "metadata": {},
   "source": [
    "Merge Recency to RFM DataFrame"
   ]
  },
  {
   "cell_type": "code",
   "execution_count": null,
   "id": "152da30d",
   "metadata": {},
   "outputs": [],
   "source": [
    "customer_rfm_final_df = pd.merge(\n",
    "    customer_rfm_fm_df,\n",
    "    latest_order_per_customer[[\"customer_unique_id\", \"Recency\"]],\n",
    "    on=\"customer_unique_id\",\n",
    "    how=\"left\",\n",
    ")"
   ]
  },
  {
   "cell_type": "code",
   "execution_count": null,
   "id": "67f9d7fb",
   "metadata": {},
   "outputs": [],
   "source": [
    "customer_rfm_final_df.head()"
   ]
  },
  {
   "cell_type": "markdown",
   "id": "72dc5c41",
   "metadata": {},
   "source": [
    "Replace name rfm with standard naming 'Rencency', 'Monetary', 'Frequency'"
   ]
  },
  {
   "cell_type": "code",
   "execution_count": null,
   "id": "24fa21f0",
   "metadata": {},
   "outputs": [],
   "source": [
    "customer_rfm_final_df.rename(\n",
    "    columns={\"frequency\": \"Frequency\", \"monetary\": \"Monetary\"}, inplace=True\n",
    ")"
   ]
  },
  {
   "cell_type": "code",
   "execution_count": null,
   "id": "c6aa5f00",
   "metadata": {},
   "outputs": [],
   "source": [
    "display(customer_rfm_final_df[[\"Frequency\", \"Monetary\", \"Recency\"]].head())\n",
    "display(customer_rfm_final_df.describe())\n",
    "display(customer_rfm_final_df.info())"
   ]
  },
  {
   "cell_type": "markdown",
   "id": "14c28fd2",
   "metadata": {},
   "source": [
    "Define number quantile **RFM** score & calculate score **Recency**"
   ]
  },
  {
   "cell_type": "code",
   "execution_count": null,
   "id": "a6d8f3fc",
   "metadata": {},
   "outputs": [],
   "source": [
    "num_quantiles = 5\n",
    "\n",
    "customer_rfm_final_df[\"R_score\"] = pd.qcut(\n",
    "    customer_rfm_final_df[\"Recency\"], q=num_quantiles, labels=False, duplicates=\"drop\"\n",
    ")\n",
    "\n",
    "customer_rfm_final_df[\"R_score\"] = num_quantiles - customer_rfm_final_df[\"R_score\"]"
   ]
  },
  {
   "cell_type": "code",
   "execution_count": null,
   "id": "376bb6ec",
   "metadata": {},
   "outputs": [],
   "source": [
    "print(f\"Recency score: {num_quantiles}\")\n",
    "display(customer_rfm_final_df[[\"customer_unique_id\", \"Recency\", \"R_score\"]].head())\n",
    "\n",
    "# check distribution\n",
    "print(customer_rfm_final_df[\"R_score\"].value_counts().sort_index())"
   ]
  },
  {
   "cell_type": "markdown",
   "id": "d3523978",
   "metadata": {},
   "source": [
    "Calculate limit quantile & give score for **Frequency**"
   ]
  },
  {
   "cell_type": "code",
   "execution_count": null,
   "id": "67e7dbf9",
   "metadata": {},
   "outputs": [],
   "source": [
    "print(f\"Attempting to assign Frequency score using {num_quantiles} quantiles...\")\n",
    "\n",
    "# --- Attempt scoring using pd.qcut ---\n",
    "customer_rfm_final_df[\"F_score\"] = pd.qcut(\n",
    "    customer_rfm_final_df[\"Frequency\"],\n",
    "    q=num_quantiles,\n",
    "    labels=False,\n",
    "    duplicates=\"drop\",\n",
    ")\n",
    "\n",
    "# Add 1 to shift the scores from 1 to q.\n",
    "customer_rfm_final_df[\"F_score\"] = customer_rfm_final_df[\"F_score\"] + 1\n",
    "\n",
    "# --- Step 2: Check if the quantile scoring resulted in a \"skewed\" distribution ---\n",
    "# We check if the number of unique scores produced is less than the requested number of quantiles.\n",
    "# If it is, it indicates that pd.qcut couldn't create distinct quantiles due to skewness/duplicates.\n",
    "\n",
    "if customer_rfm_final_df[\"F_score\"].nunique() < num_quantiles:\n",
    "    print(\n",
    "        f\"\\nWarning: Quantile scoring for Frequency resulted in only {customer_rfm_final_df['F_score'].nunique()} unique scores (less than {num_quantiles}).\"\n",
    "    )\n",
    "    print(\"This indicates a highly skewed distribution preventing distinct quantiles.\")\n",
    "    print(\"Proceeding with alternative manual scoring based on unique values.\")\n",
    "\n",
    "    # --- Step 3: If skewed, apply manual scoring based on unique values ---\n",
    "    # This is the logic that was originally in the 'except' block.\n",
    "    # It assigns score 1 if Frequency is exactly 1, otherwise assigns score 2.\n",
    "    # Make sure this logic fits your definition of manual scoring based on skewness.\n",
    "\n",
    "    customer_rfm_final_df[\"F_score\"] = customer_rfm_final_df[\"Frequency\"].apply(\n",
    "        lambda x: 1 if x == 1 else 2\n",
    "    )\n",
    "    print(\"Manual scoring applied successfully.\")\n",
    "\n",
    "else:\n",
    "    # --- Step 4: If not skewed (unique scores == num_quantiles), the quantile scoring is considered good ---\n",
    "    print(\"\\nQuantile scoring resulted in the expected number of unique scores.\")\n",
    "    print(\"Quantile scoring is considered successful.\")"
   ]
  },
  {
   "cell_type": "code",
   "execution_count": null,
   "id": "2bb6bd53",
   "metadata": {},
   "outputs": [],
   "source": [
    "print(f\"Recency score: {num_quantiles}\")\n",
    "display(customer_rfm_final_df[[\"customer_unique_id\", \"Recency\", \"F_score\"]].head())\n",
    "\n",
    "# check distribution\n",
    "print(customer_rfm_final_df[\"F_score\"].value_counts().sort_index())"
   ]
  },
  {
   "cell_type": "markdown",
   "id": "8c1fc32c",
   "metadata": {},
   "source": [
    "Calculate limit quantile & give score for Monetary"
   ]
  },
  {
   "cell_type": "code",
   "execution_count": null,
   "id": "085b95cf",
   "metadata": {},
   "outputs": [],
   "source": [
    "print(f\"Attempting to assign Monetary score using {num_quantiles} quantiles...\")\n",
    "\n",
    "# --- Attempt scoring using pd.qcut ---\n",
    "customer_rfm_final_df[\"M_score\"] = pd.qcut(\n",
    "    customer_rfm_final_df[\"Monetary\"],\n",
    "    q=num_quantiles,\n",
    "    labels=False,\n",
    "    duplicates=\"drop\",\n",
    ")\n",
    "\n",
    "# Add 1 to shift the scores from 1 to q.\n",
    "customer_rfm_final_df[\"M_score\"] = customer_rfm_final_df[\"M_score\"] + 1\n",
    "\n",
    "# --- Step 2: Check if the quantile scoring resulted in a \"skewed\" distribution ---\n",
    "# We check if the number of unique scores produced is less than the requested number of quantiles.\n",
    "# If it is, it indicates that pd.qcut couldn't create distinct quantiles due to skewness/duplicates.\n",
    "\n",
    "if customer_rfm_final_df[\"M_score\"].nunique() < num_quantiles:\n",
    "    print(\n",
    "        f\"\\nWarning: Quantile scoring for Monetary resulted in only {customer_rfm_final_df['M_score'].nunique()} unique scores (less than {num_quantiles}).\"\n",
    "    )\n",
    "    print(\"This indicates a highly skewed distribution preventing distinct quantiles.\")\n",
    "    print(\"Proceeding with alternative manual scoring based on unique values.\")\n",
    "\n",
    "    # --- Step 3: If skewed, apply manual scoring based on unique values ---\n",
    "    # This is the logic that was originally in the 'except' block.\n",
    "    # It assigns score 1 if Monetary is exactly 1, otherwise assigns score 2.\n",
    "    # Make sure this logic fits your definition of manual scoring based on skewness.\n",
    "\n",
    "    customer_rfm_final_df[\"M_score\"] = customer_rfm_final_df[\"Monetary\"].apply(\n",
    "        lambda x: 1 if x == 1 else 2\n",
    "    )\n",
    "    print(\"Manual scoring applied successfully.\")\n",
    "\n",
    "else:\n",
    "    # --- Step 4: If not skewed (unique scores == num_quantiles), the quantile scoring is considered good ---\n",
    "    print(\"\\nQuantile scoring resulted in the expected number of unique scores.\")\n",
    "    print(\"Quantile scoring is considered successful.\")"
   ]
  },
  {
   "cell_type": "code",
   "execution_count": null,
   "id": "36d952d3",
   "metadata": {},
   "outputs": [],
   "source": [
    "print(f\"Monetary score: {num_quantiles}\")\n",
    "display(customer_rfm_final_df[[\"customer_unique_id\", \"Monetary\", \"M_score\"]].head())\n",
    "\n",
    "# check distribution\n",
    "print(customer_rfm_final_df[\"M_score\"].value_counts().sort_index())"
   ]
  },
  {
   "cell_type": "code",
   "execution_count": null,
   "id": "e1631d53",
   "metadata": {},
   "outputs": [],
   "source": [
    "# combine RFM score\n",
    "\n",
    "customer_rfm_final_df[\"RFM_score_string\"] = (\n",
    "    customer_rfm_final_df[\"R_score\"].astype(int).astype(str)\n",
    "    + customer_rfm_final_df[\"F_score\"].astype(int).astype(str)\n",
    "    + customer_rfm_final_df[\"M_score\"].astype(int).astype(str)\n",
    ")\n",
    "\n",
    "# make RFM score composite\n",
    "customer_rfm_final_df[\"RFM_score_composite\"] = (\n",
    "    customer_rfm_final_df[\"R_score\"]\n",
    "    + customer_rfm_final_df[\"F_score\"]\n",
    "    + customer_rfm_final_df[\"M_score\"]\n",
    ")"
   ]
  },
  {
   "cell_type": "code",
   "execution_count": null,
   "id": "06304d4f",
   "metadata": {},
   "outputs": [],
   "source": [
    "display(\n",
    "    customer_rfm_final_df[\n",
    "        [\"customer_unique_id\", \"R_score\", \"F_score\", \"M_score\", \"RFM_score_string\"]\n",
    "    ].head()\n",
    ")"
   ]
  },
  {
   "cell_type": "code",
   "execution_count": null,
   "id": "b870b9c1",
   "metadata": {},
   "outputs": [],
   "source": [
    "display(\n",
    "    customer_rfm_final_df[\n",
    "        [\n",
    "            \"customer_unique_id\",\n",
    "            \"R_score\",\n",
    "            \"F_score\",\n",
    "            \"M_score\",\n",
    "            \"RFM_score_string\",\n",
    "            \"RFM_score_composite\",\n",
    "        ]\n",
    "    ].head()\n",
    ")\n",
    "display(\n",
    "    customer_rfm_final_df[\n",
    "        [\n",
    "            \"customer_unique_id\",\n",
    "            \"R_score\",\n",
    "            \"F_score\",\n",
    "            \"M_score\",\n",
    "            \"RFM_score_string\",\n",
    "            \"RFM_score_composite\",\n",
    "        ]\n",
    "    ].describe()\n",
    ")\n",
    "print(customer_rfm_final_df.info())"
   ]
  },
  {
   "cell_type": "markdown",
   "id": "8725a2fb",
   "metadata": {},
   "source": [
    "Define RFM Segmentation Strategy"
   ]
  },
  {
   "cell_type": "code",
   "execution_count": null,
   "id": "e5a979d7",
   "metadata": {},
   "outputs": [],
   "source": [
    "def assign_rfm_segment(row):\n",
    "    \"\"\"\n",
    "    Assigns an RFM customer segment based on R_score, F_score, and M_score\n",
    "    using a rule-based approach for better readability and maintainability.\n",
    "\n",
    "    Args:\n",
    "        row (pd.Series): A row from the DataFrame containing 'R_score',\n",
    "                         'F_score', and 'M_score'.\n",
    "\n",
    "    Returns:\n",
    "        str: The assigned RFM segment label.\n",
    "             Returns \"Undefined Segment\" if no rule matches (should not happen\n",
    "             if rules cover all score combinations).\n",
    "    \"\"\"\n",
    "    # Extract scores for easier use\n",
    "    R = row[\"R_score\"]\n",
    "    F = row[\"F_score\"]\n",
    "    M = row[\"M_score\"]\n",
    "\n",
    "    # Define the segmentation rules as a list of (condition, segment_label) tuples.\n",
    "    segmentation_rules = [\n",
    "        # F == 2 (Repeat Buyers)\n",
    "        (lambda r, f, m: f == 2 and r >= 4 and m >= 4, \"Repeat Buyers (Champions)\"),\n",
    "        (\n",
    "            lambda r, f, m: f == 2 and r >= 4 and m < 4,\n",
    "            \"Repeat Buyers (Recent & Moderate/Low M)\",\n",
    "        ),\n",
    "        (\n",
    "            lambda r, f, m: f == 2 and r < 4 and m >= 4,\n",
    "            \"Repeat Buyers (Less Recent & High M)\",\n",
    "        ),\n",
    "        (\n",
    "            lambda r, f, m: f == 2 and r < 4 and m < 4,\n",
    "            \"Repeat Buyers (Less Recent & Moderate/Low M)\",\n",
    "        ),\n",
    "        # F == 1 (Single Buyers)\n",
    "        (\n",
    "            lambda r, f, m: f == 1 and r >= 4 and m >= 4,\n",
    "            \"Single Buyers (High Value & Recent)\",\n",
    "        ),\n",
    "        (\n",
    "            lambda r, f, m: f == 1 and r >= 4 and m < 4,\n",
    "            \"Single Buyers (Recent & Moderate/Low M)\",\n",
    "        ),\n",
    "        (\n",
    "            lambda r, f, m: f == 1 and r >= 2 and r < 4 and m >= 4,\n",
    "            \"Single Buyers (Moderate R & High M)\",\n",
    "        ),\n",
    "        (\n",
    "            lambda r, f, m: f == 1 and r >= 2 and r < 4 and m < 4,\n",
    "            \"Single Buyers (Moderate R & Moderate/Low M)\",\n",
    "        ),\n",
    "        (\n",
    "            lambda r, f, m: f == 1 and r < 2 and m >= 4,\n",
    "            \"Single Buyers (Hibernating & High M)\",\n",
    "        ),\n",
    "        (\n",
    "            lambda r, f, m: f == 1 and r < 2 and m < 4,\n",
    "            \"Single Buyers (Hibernating & Moderate/Low M)\",\n",
    "        ),\n",
    "    ]\n",
    "\n",
    "    # Iterate through the rules and return the segment label for the first matching condition\n",
    "    for condition, segment_label in segmentation_rules:\n",
    "        if condition(R, F, M):\n",
    "            return segment_label\n",
    "\n",
    "    # Return a default label if no condition matches (should ideally not happen\n",
    "    # if all score combinations are covered by the rules based on the original logic)\n",
    "    return \"Undefined Segment\""
   ]
  },
  {
   "cell_type": "code",
   "execution_count": null,
   "id": "cd3cdac9",
   "metadata": {},
   "outputs": [],
   "source": [
    "# apply function\n",
    "customer_rfm_final_df[\"RFM_segment\"] = customer_rfm_final_df.apply(\n",
    "    assign_rfm_segment, axis=1\n",
    ")"
   ]
  },
  {
   "cell_type": "code",
   "execution_count": null,
   "id": "3870a93c",
   "metadata": {},
   "outputs": [],
   "source": [
    "display(\n",
    "    customer_rfm_final_df[\n",
    "        [\n",
    "            \"customer_unique_id\",\n",
    "            \"R_score\",\n",
    "            \"F_score\",\n",
    "            \"M_score\",\n",
    "            \"RFM_score_string\",\n",
    "            \"RFM_segment\",\n",
    "        ]\n",
    "    ].head()\n",
    ")"
   ]
  },
  {
   "cell_type": "markdown",
   "id": "ad9a7052",
   "metadata": {},
   "source": [
    "Calculate & make a Visualization for `RFM_segment` size"
   ]
  },
  {
   "cell_type": "code",
   "execution_count": null,
   "id": "66c70664",
   "metadata": {},
   "outputs": [],
   "source": [
    "segment_size = customer_rfm_final_df[\"RFM_segment\"].value_counts().reset_index()\n",
    "\n",
    "# make columns\n",
    "segment_size.columns = [\"RFM_segment\", \"customer_count\"]"
   ]
  },
  {
   "cell_type": "code",
   "execution_count": null,
   "id": "4623ae29",
   "metadata": {},
   "outputs": [],
   "source": [
    "plt.figure(figsize=(14, 7))\n",
    "sns.barplot(\n",
    "    x=\"customer_count\",\n",
    "    y=\"RFM_segment\",\n",
    "    data=segment_size.sort_values(\"customer_count\", ascending=False),\n",
    "    palette=\"rocket\",\n",
    ")\n",
    "\n",
    "plt.title(\"Distribution customer per RFM Segment\", fontsize=18)\n",
    "plt.xlabel(\"Number of Customer\", fontsize=12)\n",
    "plt.ylabel(\"RFM Segment\", fontsize=12)\n",
    "plt.tight_layout()\n",
    "plt.show()"
   ]
  },
  {
   "cell_type": "markdown",
   "id": "7c0ca689",
   "metadata": {},
   "source": [
    "Characterization of RFM Segments (Average Score & Original Value)"
   ]
  },
  {
   "cell_type": "code",
   "execution_count": null,
   "id": "0702dc8c",
   "metadata": {},
   "outputs": [],
   "source": [
    "segment_characteristics = (\n",
    "    customer_rfm_final_df.groupby(\"RFM_segment\")\n",
    "    .agg(\n",
    "        Avg_R_score=(\"R_score\", \"mean\"),\n",
    "        Avg_F_score=(\"F_score\", \"mean\"),\n",
    "        Avg_M_score=(\"M_score\", \"mean\"),\n",
    "        Avg_Recency=(\"Recency\", \"mean\"),\n",
    "        Avg_Frequency=(\"Frequency\", \"mean\"),\n",
    "        Avg_Monetary=(\"Monetary\", \"mean\"),\n",
    "        Num_Customers=(\"customer_unique_id\", \"nunique\"),\n",
    "    )\n",
    "    .round(2)\n",
    ")"
   ]
  },
  {
   "cell_type": "code",
   "execution_count": null,
   "id": "dfc6b0a0",
   "metadata": {},
   "outputs": [],
   "source": [
    "# sort the result base number of customer (use DESC)\n",
    "segment_characteristics = segment_characteristics.sort_values(\n",
    "    \"Num_Customers\", ascending=False\n",
    ")"
   ]
  },
  {
   "cell_type": "code",
   "execution_count": null,
   "id": "d16e8c77",
   "metadata": {},
   "outputs": [],
   "source": [
    "print(\"Result after characterization RFM segments\\n\")\n",
    "display(segment_characteristics)"
   ]
  },
  {
   "cell_type": "markdown",
   "id": "24d43657",
   "metadata": {},
   "source": [
    "Average RFM Score visualization per Segment"
   ]
  },
  {
   "cell_type": "code",
   "execution_count": null,
   "id": "819c79b8",
   "metadata": {},
   "outputs": [],
   "source": [
    "scores_for_heatmap = segment_characteristics[\n",
    "    [\n",
    "        \"Avg_R_score\",\n",
    "        \"Avg_F_score\",\n",
    "        \"Avg_M_score\",\n",
    "    ]\n",
    "]\n",
    "\n",
    "plt.figure(figsize=(10, 7))\n",
    "sns.heatmap(\n",
    "    scores_for_heatmap,\n",
    "    annot=True,\n",
    "    cmap=\"rocket\",\n",
    "    fmt=\".2f\",\n",
    "    linewidths=0.5,\n",
    "    linecolor=\"black\",\n",
    "    cbar_kws={\"label\": \"Rata-rata Skor\"},\n",
    ")\n",
    "\n",
    "plt.title(\"Avarage Score R, F, M per Segment\", fontsize=16)\n",
    "plt.xlabel(\"RFM Score\", fontsize=12)\n",
    "plt.ylabel(\"RFM Segments\", fontsize=12)\n",
    "plt.xticks(rotation=45, ha=\"right\", fontsize=10)\n",
    "plt.yticks(rotation=0, fontsize=10)\n",
    "plt.tight_layout()\n",
    "plt.show()"
   ]
  },
  {
   "cell_type": "markdown",
   "id": "2218452e",
   "metadata": {},
   "source": [
    "## Further Data Exploration & RFM Cross-Segment Analysis"
   ]
  },
  {
   "cell_type": "markdown",
   "id": "a7102ee0",
   "metadata": {},
   "source": [
    "Identify product or category products that most bought by customer"
   ]
  },
  {
   "cell_type": "code",
   "execution_count": null,
   "id": "1594bffb",
   "metadata": {},
   "outputs": [],
   "source": [
    "# merge data to get product categories per customer_unique_id and RFM segment\n",
    "\n",
    "product_info_df = ecom_data_df[\n",
    "    [\"customer_unique_id\", \"order_id\", \"product_id\", \"product_category_name\"]\n",
    "].copy()\n",
    "\n",
    "# drop duplicate\n",
    "product_info_df.drop_duplicates(inplace=True)\n",
    "\n",
    "# merge data\n",
    "df_segment_products = pd.merge(\n",
    "    customer_rfm_final_df, product_info_df, how=\"left\", on=\"customer_unique_id\"\n",
    ")\n",
    "\n",
    "# drop rows without product categries\n",
    "df_segment_products.dropna(subset=[\"product_category_name\"], inplace=True)"
   ]
  },
  {
   "cell_type": "code",
   "execution_count": null,
   "id": "17270f69",
   "metadata": {},
   "outputs": [],
   "source": [
    "# count the number of times a product category appears per segment\n",
    "product_preference_per_segment = (\n",
    "    df_segment_products.groupby([\"RFM_segment\", \"product_category_name\"])\n",
    "    .size()\n",
    "    .reset_index(name=\"order_count\")\n",
    ")"
   ]
  },
  {
   "cell_type": "code",
   "execution_count": null,
   "id": "d3a221fd",
   "metadata": {},
   "outputs": [],
   "source": [
    "# for every segment, get 5 higher category product\n",
    "top_n = 5\n",
    "top_products_per_segment = (\n",
    "    product_preference_per_segment.sort_values(\n",
    "        [\"RFM_segment\", \"order_count\"], ascending=[False, False]\n",
    "    )\n",
    "    .groupby(\"RFM_segment\")\n",
    "    .head(top_n)\n",
    "    .reset_index(drop=True)\n",
    ")"
   ]
  },
  {
   "cell_type": "markdown",
   "id": "249be3b7",
   "metadata": {},
   "source": [
    "Identify most city/state per segment"
   ]
  },
  {
   "cell_type": "code",
   "execution_count": null,
   "id": "e6786f57",
   "metadata": {},
   "outputs": [],
   "source": [
    "df_segment_geo = pd.merge(\n",
    "    customer_rfm_final_df,\n",
    "    ecom_data_df[[\"customer_unique_id\", \"customer_city\", \"customer_state\"]],\n",
    "    on=\"customer_unique_id\",\n",
    "    how=\"left\",\n",
    ")\n",
    "\n",
    "df_segment_geo.dropna(subset=[\"customer_city\", \"customer_state\"], inplace=True)"
   ]
  },
  {
   "cell_type": "code",
   "execution_count": null,
   "id": "6017caf3",
   "metadata": {},
   "outputs": [],
   "source": [
    "# calculate number of unique customer per segment\n",
    "geo_distribution_per_segment_city = (\n",
    "    df_segment_geo.groupby([\"RFM_segment\", \"customer_city\"])[\"customer_unique_id\"]\n",
    "    .nunique()\n",
    "    .reset_index(name=\"customer_count\")\n",
    ")\n",
    "geo_distribution_per_segment_state = (\n",
    "    df_segment_geo.groupby([\"RFM_segment\", \"customer_state\"])[\"customer_unique_id\"]\n",
    "    .nunique()\n",
    "    .reset_index(name=\"customer_count\")\n",
    ")"
   ]
  },
  {
   "cell_type": "code",
   "execution_count": null,
   "id": "94a1e2e0",
   "metadata": {},
   "outputs": [],
   "source": [
    "# Take the top 5 cities/states per segment\n",
    "top_n = 5\n",
    "top_cities_per_segment = (\n",
    "    geo_distribution_per_segment_city.sort_values(\n",
    "        [\"RFM_segment\", \"customer_count\"], ascending=[False, False]\n",
    "    )\n",
    "    .groupby(\"RFM_segment\")\n",
    "    .head(top_n)\n",
    "    .reset_index(drop=True)\n",
    ")\n",
    "\n",
    "top_states_per_segment = (\n",
    "    geo_distribution_per_segment_state.sort_values(\n",
    "        [\"RFM_segment\", \"customer_count\"], ascending=[False, False]\n",
    "    )\n",
    "    .groupby(\"RFM_segment\")\n",
    "    .head(top_n)\n",
    "    .reset_index(drop=True)\n",
    ")"
   ]
  },
  {
   "cell_type": "markdown",
   "id": "6f1226fb",
   "metadata": {},
   "source": [
    "Analysis of payment method per RFM segment"
   ]
  },
  {
   "cell_type": "code",
   "execution_count": null,
   "id": "4eb95357",
   "metadata": {},
   "outputs": [],
   "source": [
    "payment_info_df = ecom_data_df[\n",
    "    [\"customer_unique_id\", \"order_id\", \"payment_type\"]\n",
    "].copy()\n",
    "\n",
    "# drop duplicate\n",
    "payment_info_df.drop_duplicates(inplace=True)\n",
    "\n",
    "# merge data\n",
    "df_segment_payments = pd.merge(\n",
    "    customer_rfm_final_df, payment_info_df, how=\"left\", on=\"customer_unique_id\"\n",
    ")\n",
    "\n",
    "# drop rows without product categries\n",
    "df_segment_payments.dropna(subset=[\"payment_type\"], inplace=True)\n",
    "\n",
    "# count amount transaction per payment method\n",
    "payment_method_per_segment = (\n",
    "    df_segment_payments.groupby([\"RFM_segment\", \"payment_type\"])\n",
    "    .size()\n",
    "    .reset_index(name=\"transaction_count\")\n",
    ")"
   ]
  },
  {
   "cell_type": "code",
   "execution_count": null,
   "id": "0676570b",
   "metadata": {},
   "outputs": [],
   "source": [
    "# get the top 5 payment method\n",
    "top_payments_per_segment = (\n",
    "    payment_method_per_segment.sort_values(\n",
    "        [\"RFM_segment\", \"transaction_count\"], ascending=[False, False]\n",
    "    )\n",
    "    .groupby(\"RFM_segment\")\n",
    "    .head(top_n)\n",
    "    .reset_index(drop=True)\n",
    ")"
   ]
  },
  {
   "cell_type": "markdown",
   "id": "3049f933",
   "metadata": {},
   "source": [
    "display all all result"
   ]
  },
  {
   "cell_type": "code",
   "execution_count": null,
   "id": "d1e90648",
   "metadata": {},
   "outputs": [],
   "source": [
    "print(\"top category products:\\n\")\n",
    "display(top_products_per_segment)\n",
    "print(\"top cities for every segments customer:\\n\")\n",
    "display(top_cities_per_segment)\n",
    "print(\"top states for every segments customer:\\n\")\n",
    "display(top_states_per_segment)\n",
    "print(\"top payment method for every segments customer:\\n\")\n",
    "display(top_payments_per_segment)"
   ]
  },
  {
   "cell_type": "markdown",
   "id": "f8aa093d",
   "metadata": {},
   "source": [
    "Analyze time delivery per segment RFM"
   ]
  },
  {
   "cell_type": "code",
   "execution_count": null,
   "id": "b5d5b533",
   "metadata": {},
   "outputs": [],
   "source": [
    "segment_delivery_time = pd.merge(\n",
    "    customer_rfm_final_df,\n",
    "    ecom_data_df[\n",
    "        [\n",
    "            \"customer_unique_id\",\n",
    "            \"order_id\",\n",
    "            \"order_purchase_timestamp\",\n",
    "            \"order_delivered_customer_date\",\n",
    "        ]\n",
    "    ],\n",
    "    on=\"customer_unique_id\",\n",
    "    how=\"left\",\n",
    ")\n",
    "\n",
    "# check if date column is datetime\n",
    "if pd.api.types.is_datetime64_any_dtype(\n",
    "    ecom_data_df[\"order_purchase_timestamp\"]\n",
    ") and pd.api.types.is_datetime64_any_dtype(\n",
    "    ecom_data_df[\"order_delivered_customer_date\"]\n",
    "):\n",
    "    print(\n",
    "        \"Both columns (order_purchase_timestamp & order_delivered_customer_date) are already of datetime type\"\n",
    "    )\n",
    "else:\n",
    "    print(\"One or both columns are NOT of datetime type. Convert now...\")\n",
    "    ecom_data_df[[\"order_purchase_timestamp\", \"order_delivered_customer_date\"]] = (\n",
    "        pd.to_datetime(\n",
    "            ecom_data_df[[\"order_purchase_timestamp\", \"order_delivered_customer_date\"]],\n",
    "            errors=\"coerce\",\n",
    "        )\n",
    "    )\n",
    "    print(\"The columns are successfully converted to datetime.\")"
   ]
  },
  {
   "cell_type": "code",
   "execution_count": null,
   "id": "a68f37df",
   "metadata": {},
   "outputs": [],
   "source": [
    "# calculate delivery time in day\n",
    "segment_delivery_time[\"delivery_time_days\"] = (\n",
    "    segment_delivery_time[\"order_delivered_customer_date\"]\n",
    "    - segment_delivery_time[\"order_purchase_timestamp\"]\n",
    ").dt.days.astype(\"Int64\")"
   ]
  },
  {
   "cell_type": "code",
   "execution_count": null,
   "id": "a635f265",
   "metadata": {},
   "outputs": [],
   "source": [
    "display(segment_delivery_time[[\"delivery_time_days\"]].head(1))"
   ]
  },
  {
   "cell_type": "code",
   "execution_count": null,
   "id": "291a1ab4",
   "metadata": {},
   "outputs": [],
   "source": [
    "# calculate avarage time delivery per segment RFM\n",
    "avg_time_delivery = (\n",
    "    segment_delivery_time.groupby(\"RFM_segment\")[\"delivery_time_days\"]\n",
    "    .mean()\n",
    "    .reset_index()\n",
    ")\n",
    "\n",
    "# rename column\n",
    "avg_time_delivery.rename(\n",
    "    columns={\"delivery_time_days\": \"avg_delivery_time_days\"}, inplace=True\n",
    ")\n",
    "\n",
    "# sort data time delivery\n",
    "avg_time_delivery = avg_time_delivery.sort_values(\n",
    "    by=\"avg_delivery_time_days\", ascending=False\n",
    ")"
   ]
  },
  {
   "cell_type": "code",
   "execution_count": 80,
   "id": "45c6476e",
   "metadata": {},
   "outputs": [
    {
     "data": {
      "text/html": [
       "<div>\n",
       "<style scoped>\n",
       "    .dataframe tbody tr th:only-of-type {\n",
       "        vertical-align: middle;\n",
       "    }\n",
       "\n",
       "    .dataframe tbody tr th {\n",
       "        vertical-align: top;\n",
       "    }\n",
       "\n",
       "    .dataframe thead th {\n",
       "        text-align: right;\n",
       "    }\n",
       "</style>\n",
       "<table border=\"1\" class=\"dataframe\">\n",
       "  <thead>\n",
       "    <tr style=\"text-align: right;\">\n",
       "      <th></th>\n",
       "      <th>RFM_segment</th>\n",
       "      <th>avg_delivery_time_days</th>\n",
       "    </tr>\n",
       "  </thead>\n",
       "  <tbody>\n",
       "    <tr>\n",
       "      <th>0</th>\n",
       "      <td>Repeat Buyers (Champions)</td>\n",
       "      <td>13.4</td>\n",
       "    </tr>\n",
       "    <tr>\n",
       "      <th>2</th>\n",
       "      <td>Repeat Buyers (Less Recent &amp; Moderate/Low M)</td>\n",
       "      <td>13.375</td>\n",
       "    </tr>\n",
       "    <tr>\n",
       "      <th>7</th>\n",
       "      <td>Single Buyers (Moderate R &amp; High M)</td>\n",
       "      <td>12.808605</td>\n",
       "    </tr>\n",
       "    <tr>\n",
       "      <th>1</th>\n",
       "      <td>Repeat Buyers (Less Recent &amp; High M)</td>\n",
       "      <td>12.5</td>\n",
       "    </tr>\n",
       "    <tr>\n",
       "      <th>8</th>\n",
       "      <td>Single Buyers (Moderate R &amp; Moderate/Low M)</td>\n",
       "      <td>12.174123</td>\n",
       "    </tr>\n",
       "    <tr>\n",
       "      <th>4</th>\n",
       "      <td>Single Buyers (Hibernating &amp; High M)</td>\n",
       "      <td>11.181219</td>\n",
       "    </tr>\n",
       "    <tr>\n",
       "      <th>5</th>\n",
       "      <td>Single Buyers (Hibernating &amp; Moderate/Low M)</td>\n",
       "      <td>10.565882</td>\n",
       "    </tr>\n",
       "    <tr>\n",
       "      <th>3</th>\n",
       "      <td>Repeat Buyers (Recent &amp; Moderate/Low M)</td>\n",
       "      <td>10.333333</td>\n",
       "    </tr>\n",
       "    <tr>\n",
       "      <th>6</th>\n",
       "      <td>Single Buyers (High Value &amp; Recent)</td>\n",
       "      <td>10.306224</td>\n",
       "    </tr>\n",
       "    <tr>\n",
       "      <th>9</th>\n",
       "      <td>Single Buyers (Recent &amp; Moderate/Low M)</td>\n",
       "      <td>9.472075</td>\n",
       "    </tr>\n",
       "  </tbody>\n",
       "</table>\n",
       "</div>"
      ],
      "text/plain": [
       "                                    RFM_segment  avg_delivery_time_days\n",
       "0                     Repeat Buyers (Champions)                    13.4\n",
       "2  Repeat Buyers (Less Recent & Moderate/Low M)                  13.375\n",
       "7           Single Buyers (Moderate R & High M)               12.808605\n",
       "1          Repeat Buyers (Less Recent & High M)                    12.5\n",
       "8   Single Buyers (Moderate R & Moderate/Low M)               12.174123\n",
       "4          Single Buyers (Hibernating & High M)               11.181219\n",
       "5  Single Buyers (Hibernating & Moderate/Low M)               10.565882\n",
       "3       Repeat Buyers (Recent & Moderate/Low M)               10.333333\n",
       "6           Single Buyers (High Value & Recent)               10.306224\n",
       "9       Single Buyers (Recent & Moderate/Low M)                9.472075"
      ]
     },
     "metadata": {},
     "output_type": "display_data"
    }
   ],
   "source": [
    "display(avg_time_delivery)"
   ]
  },
  {
   "cell_type": "markdown",
   "id": "1c1fec21",
   "metadata": {},
   "source": [
    "Analyze price product per segment"
   ]
  },
  {
   "cell_type": "code",
   "execution_count": 77,
   "id": "b75f3cb5",
   "metadata": {},
   "outputs": [],
   "source": [
    "# merge data to get price product per customer_unique_id and RFM segment\n",
    "price_product_info = ecom_data_df[[\"customer_unique_id\", \"order_id\", \"price\"]].copy()\n",
    "\n",
    "# drop duplicate\n",
    "price_product_info.drop_duplicates(inplace=True)\n",
    "\n",
    "# merge data\n",
    "price_products_df = pd.merge(\n",
    "    customer_rfm_final_df, price_product_info, how=\"left\", on=\"customer_unique_id\"\n",
    ")\n",
    "\n",
    "# drop NaN price column\n",
    "price_products_df.dropna(subset=[\"price\"], inplace=True)"
   ]
  },
  {
   "cell_type": "code",
   "execution_count": 78,
   "metadata": {},
   "outputs": [],
   "source": [
    "# calculate avarage time delivery per segment RFM\n",
    "avg_price_product = (\n",
    "    price_products_df.groupby(\"RFM_segment\")[\"price\"].mean().reset_index()\n",
    ")\n",
    "\n",
    "# rename column\n",
    "avg_price_product.rename(columns={\"price\": \"avg_price_product\"}, inplace=True)\n",
    "\n",
    "# sort data time delivery\n",
    "avg_price_product = avg_price_product.sort_values(\n",
    "    by=\"avg_price_product\", ascending=False\n",
    ")"
   ]
  },
  {
   "cell_type": "code",
   "execution_count": 79,
   "id": "5208ce5d",
   "metadata": {},
   "outputs": [
    {
     "data": {
      "text/html": [
       "<div>\n",
       "<style scoped>\n",
       "    .dataframe tbody tr th:only-of-type {\n",
       "        vertical-align: middle;\n",
       "    }\n",
       "\n",
       "    .dataframe tbody tr th {\n",
       "        vertical-align: top;\n",
       "    }\n",
       "\n",
       "    .dataframe thead th {\n",
       "        text-align: right;\n",
       "    }\n",
       "</style>\n",
       "<table border=\"1\" class=\"dataframe\">\n",
       "  <thead>\n",
       "    <tr style=\"text-align: right;\">\n",
       "      <th></th>\n",
       "      <th>RFM_segment</th>\n",
       "      <th>avg_price_product</th>\n",
       "    </tr>\n",
       "  </thead>\n",
       "  <tbody>\n",
       "    <tr>\n",
       "      <th>4</th>\n",
       "      <td>Single Buyers (Hibernating &amp; High M)</td>\n",
       "      <td>227.851764</td>\n",
       "    </tr>\n",
       "    <tr>\n",
       "      <th>6</th>\n",
       "      <td>Single Buyers (High Value &amp; Recent)</td>\n",
       "      <td>225.155718</td>\n",
       "    </tr>\n",
       "    <tr>\n",
       "      <th>7</th>\n",
       "      <td>Single Buyers (Moderate R &amp; High M)</td>\n",
       "      <td>210.467118</td>\n",
       "    </tr>\n",
       "    <tr>\n",
       "      <th>1</th>\n",
       "      <td>Repeat Buyers (Less Recent &amp; High M)</td>\n",
       "      <td>161.734286</td>\n",
       "    </tr>\n",
       "    <tr>\n",
       "      <th>0</th>\n",
       "      <td>Repeat Buyers (Champions)</td>\n",
       "      <td>87.485000</td>\n",
       "    </tr>\n",
       "    <tr>\n",
       "      <th>5</th>\n",
       "      <td>Single Buyers (Hibernating &amp; Moderate/Low M)</td>\n",
       "      <td>58.491981</td>\n",
       "    </tr>\n",
       "    <tr>\n",
       "      <th>9</th>\n",
       "      <td>Single Buyers (Recent &amp; Moderate/Low M)</td>\n",
       "      <td>58.025036</td>\n",
       "    </tr>\n",
       "    <tr>\n",
       "      <th>8</th>\n",
       "      <td>Single Buyers (Moderate R &amp; Moderate/Low M)</td>\n",
       "      <td>58.010429</td>\n",
       "    </tr>\n",
       "    <tr>\n",
       "      <th>3</th>\n",
       "      <td>Repeat Buyers (Recent &amp; Moderate/Low M)</td>\n",
       "      <td>50.455000</td>\n",
       "    </tr>\n",
       "    <tr>\n",
       "      <th>2</th>\n",
       "      <td>Repeat Buyers (Less Recent &amp; Moderate/Low M)</td>\n",
       "      <td>45.150000</td>\n",
       "    </tr>\n",
       "  </tbody>\n",
       "</table>\n",
       "</div>"
      ],
      "text/plain": [
       "                                    RFM_segment  avg_price_product\n",
       "4          Single Buyers (Hibernating & High M)         227.851764\n",
       "6           Single Buyers (High Value & Recent)         225.155718\n",
       "7           Single Buyers (Moderate R & High M)         210.467118\n",
       "1          Repeat Buyers (Less Recent & High M)         161.734286\n",
       "0                     Repeat Buyers (Champions)          87.485000\n",
       "5  Single Buyers (Hibernating & Moderate/Low M)          58.491981\n",
       "9       Single Buyers (Recent & Moderate/Low M)          58.025036\n",
       "8   Single Buyers (Moderate R & Moderate/Low M)          58.010429\n",
       "3       Repeat Buyers (Recent & Moderate/Low M)          50.455000\n",
       "2  Repeat Buyers (Less Recent & Moderate/Low M)          45.150000"
      ]
     },
     "metadata": {},
     "output_type": "display_data"
    }
   ],
   "source": [
    "display(avg_price_product)"
   ]
  }
 ],
 "metadata": {
  "kernelspec": {
   "display_name": "base",
   "language": "python",
   "name": "python3"
  },
  "language_info": {
   "codemirror_mode": {
    "name": "ipython",
    "version": 3
   },
   "file_extension": ".py",
   "mimetype": "text/x-python",
   "name": "python",
   "nbconvert_exporter": "python",
   "pygments_lexer": "ipython3",
   "version": "3.12.7"
  }
 },
 "nbformat": 4,
 "nbformat_minor": 5
}
