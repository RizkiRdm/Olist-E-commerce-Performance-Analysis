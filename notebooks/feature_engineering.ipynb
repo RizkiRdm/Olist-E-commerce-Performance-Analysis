{
 "cells": [
  {
   "cell_type": "markdown",
   "id": "cd98b2d8",
   "metadata": {},
   "source": [
    "# Feature Engineering"
   ]
  },
  {
   "cell_type": "code",
   "execution_count": 1,
   "id": "3dd4984d",
   "metadata": {},
   "outputs": [],
   "source": [
    "import pandas as pd\n",
    "import numpy as np"
   ]
  },
  {
   "cell_type": "markdown",
   "id": "2d66bb68",
   "metadata": {},
   "source": [
    "## Load Data"
   ]
  },
  {
   "cell_type": "code",
   "execution_count": 2,
   "id": "2114a709",
   "metadata": {},
   "outputs": [],
   "source": [
    "ecom_data_df = pd.read_parquet(\"../dataset/processed/olist_ecom_cleaned.parquet\")"
   ]
  },
  {
   "cell_type": "code",
   "execution_count": 3,
   "id": "da5895e5",
   "metadata": {},
   "outputs": [
    {
     "name": "stdout",
     "output_type": "stream",
     "text": [
      "<class 'pandas.core.frame.DataFrame'>\n",
      "RangeIndex: 7475 entries, 0 to 7474\n",
      "Data columns (total 30 columns):\n",
      " #   Column                         Non-Null Count  Dtype         \n",
      "---  ------                         --------------  -----         \n",
      " 0   customer_id                    7475 non-null   object        \n",
      " 1   customer_unique_id             7475 non-null   object        \n",
      " 2   customer_zip_code_prefix       6877 non-null   float64       \n",
      " 3   customer_city                  7475 non-null   object        \n",
      " 4   customer_state                 7475 non-null   object        \n",
      " 5   order_id                       7475 non-null   object        \n",
      " 6   order_status                   7475 non-null   object        \n",
      " 7   order_purchase_timestamp       7475 non-null   datetime64[ns]\n",
      " 8   order_approved_at              7475 non-null   datetime64[ns]\n",
      " 9   order_delivered_carrier_date   7409 non-null   datetime64[ns]\n",
      " 10  order_delivered_customer_date  7405 non-null   datetime64[ns]\n",
      " 11  order_estimated_delivery_date  7033 non-null   datetime64[ns]\n",
      " 12  payment_sequential             7475 non-null   float64       \n",
      " 13  payment_type                   7475 non-null   object        \n",
      " 14  payment_installments           7475 non-null   float64       \n",
      " 15  payment_value                  7475 non-null   float64       \n",
      " 16  order_item_id                  7475 non-null   float64       \n",
      " 17  product_id                     7475 non-null   object        \n",
      " 18  seller_id                      7475 non-null   object        \n",
      " 19  shipping_limit_date            7475 non-null   datetime64[ns]\n",
      " 20  price                          7475 non-null   float64       \n",
      " 21  freight_value                  7475 non-null   float64       \n",
      " 22  product_category_name          7475 non-null   object        \n",
      " 23  product_name_lenght            7475 non-null   float64       \n",
      " 24  product_description_lenght     7475 non-null   float64       \n",
      " 25  product_photos_qty             7475 non-null   float64       \n",
      " 26  product_weight_g               7475 non-null   float64       \n",
      " 27  product_length_cm              7475 non-null   float64       \n",
      " 28  product_height_cm              7475 non-null   float64       \n",
      " 29  product_width_cm               7475 non-null   float64       \n",
      "dtypes: datetime64[ns](6), float64(14), object(10)\n",
      "memory usage: 1.7+ MB\n"
     ]
    }
   ],
   "source": [
    "ecom_data_df.info()"
   ]
  },
  {
   "cell_type": "code",
   "execution_count": 4,
   "id": "f6cdc693",
   "metadata": {},
   "outputs": [
    {
     "name": "stdout",
     "output_type": "stream",
     "text": [
      "customer_id                              object\n",
      "customer_unique_id                       object\n",
      "customer_zip_code_prefix                float64\n",
      "customer_city                            object\n",
      "customer_state                           object\n",
      "order_id                                 object\n",
      "order_status                             object\n",
      "order_purchase_timestamp         datetime64[ns]\n",
      "order_approved_at                datetime64[ns]\n",
      "order_delivered_carrier_date     datetime64[ns]\n",
      "order_delivered_customer_date    datetime64[ns]\n",
      "order_estimated_delivery_date    datetime64[ns]\n",
      "payment_sequential                      float64\n",
      "payment_type                             object\n",
      "payment_installments                    float64\n",
      "payment_value                           float64\n",
      "order_item_id                           float64\n",
      "product_id                               object\n",
      "seller_id                                object\n",
      "shipping_limit_date              datetime64[ns]\n",
      "price                                   float64\n",
      "freight_value                           float64\n",
      "product_category_name                    object\n",
      "product_name_lenght                     float64\n",
      "product_description_lenght              float64\n",
      "product_photos_qty                      float64\n",
      "product_weight_g                        float64\n",
      "product_length_cm                       float64\n",
      "product_height_cm                       float64\n",
      "product_width_cm                        float64\n",
      "dtype: object\n"
     ]
    }
   ],
   "source": [
    "print(ecom_data_df.dtypes)"
   ]
  },
  {
   "cell_type": "markdown",
   "id": "cd82ec76",
   "metadata": {},
   "source": [
    "Change data type 'customer_zip_code_prefix' to object"
   ]
  },
  {
   "cell_type": "code",
   "execution_count": 5,
   "id": "7b6bbff9",
   "metadata": {},
   "outputs": [
    {
     "name": "stdout",
     "output_type": "stream",
     "text": [
      "data type before replace the data type: float64\n",
      "data type after replace the data type: object\n"
     ]
    }
   ],
   "source": [
    "print(\n",
    "    f\"data type before replace the data type: {ecom_data_df['customer_zip_code_prefix'].dtype}\"\n",
    ")\n",
    "\n",
    "# change the data type\n",
    "ecom_data_df[\"customer_zip_code_prefix\"] = ecom_data_df[\n",
    "    \"customer_zip_code_prefix\"\n",
    "].astype(object)\n",
    "\n",
    "print(\n",
    "    f\"data type after replace the data type: {ecom_data_df['customer_zip_code_prefix'].dtype}\"\n",
    ")"
   ]
  },
  {
   "cell_type": "markdown",
   "id": "932d7c51",
   "metadata": {},
   "source": [
    "## Make feature base time"
   ]
  },
  {
   "cell_type": "code",
   "execution_count": 6,
   "id": "0af87c5d",
   "metadata": {},
   "outputs": [],
   "source": [
    "def calculate_duration(df, start_date_col, end_date_col, unit=\"days\"):\n",
    "    \"\"\"\n",
    "    calculate two column date durration in preferred unit\n",
    "    Args:\n",
    "        df (pd.DataFrame): DataFrame input.\n",
    "        start_date_col (str): start column name.\n",
    "        end_date_col (str): end column name.\n",
    "        unit (str): unit preferred('days', 'hours', 'seconds').\n",
    "\n",
    "    Returns:\n",
    "        pd.Series: result durration that contains calculations.\n",
    "                   return NaN if wrong or onf of NaT input dates.\n",
    "    \"\"\"\n",
    "    # calculate timedelta (time gap)\n",
    "    duration_timedelta = df[end_date_col] - df[start_date_col]\n",
    "\n",
    "    # convert timedelta to total second time\n",
    "    duration_seconds = duration_timedelta.dt.total_seconds()\n",
    "\n",
    "    # convert total second time to preferred unit\n",
    "    if unit == \"seconds\":\n",
    "        return duration_seconds\n",
    "    elif unit == \"hours\":\n",
    "        return duration_seconds / 3600\n",
    "    elif unit == \"days\":\n",
    "        return duration_seconds / (24 * 3600)\n",
    "\n",
    "    else:\n",
    "        raise ValueError(\n",
    "            f\"unit is not supported: {unit}. choose 'days', 'hours', 'seconds'.\"\n",
    "        )"
   ]
  },
  {
   "cell_type": "code",
   "execution_count": 7,
   "id": "c660e658",
   "metadata": {},
   "outputs": [
    {
     "name": "stdout",
     "output_type": "stream",
     "text": [
      "--- Creating Time-Based Features (Unit: days) ---\n",
      "Created column: 'time_to_approve'\n",
      "Created column: 'time_to_carrier'\n",
      "Created column: 'shipping_time'\n",
      "Created column: 'total_delivery_time'\n",
      "Created column: 'delivery_vs_estimate'\n",
      "Columns created:\n",
      "['time_to_approve', 'time_to_carrier', 'shipping_time', 'total_delivery_time', 'delivery_vs_estimate']\n",
      "Time-based features creation complete!\n"
     ]
    }
   ],
   "source": [
    "# Define the specifications for each duration calculation\n",
    "# Each tuple contains: (new_column_name, start_date_column, end_date_column)\n",
    "duration_specs = [\n",
    "    (\"time_to_approve\", \"order_purchase_timestamp\", \"order_approved_at\"),\n",
    "    (\"time_to_carrier\", \"order_approved_at\", \"order_delivered_carrier_date\"),\n",
    "    (\"shipping_time\", \"order_delivered_carrier_date\", \"order_delivered_customer_date\"),\n",
    "    (\n",
    "        \"total_delivery_time\",\n",
    "        \"order_purchase_timestamp\",\n",
    "        \"order_delivered_customer_date\",\n",
    "    ),\n",
    "    (\n",
    "        \"delivery_vs_estimate\",\n",
    "        \"order_estimated_delivery_date\",\n",
    "        \"order_delivered_customer_date\",\n",
    "    ),\n",
    "]\n",
    "\n",
    "# Define the unit for all calculations (assuming it's the same for now)\n",
    "calculation_unit = \"days\"\n",
    "\n",
    "print(f\"--- Creating Time-Based Features (Unit: {calculation_unit}) ---\")\n",
    "\n",
    "# Loop through the specifications and calculate/assign the duration for each\n",
    "for new_col_name, start_col, end_col in duration_specs:\n",
    "    if start_col in ecom_data_df.columns and end_col in ecom_data_df.columns:\n",
    "        ecom_data_df[new_col_name] = calculate_duration(\n",
    "            ecom_data_df, start_col, end_col, calculation_unit\n",
    "        )\n",
    "        print(f\"Created column: '{new_col_name}'\")\n",
    "    else:\n",
    "        print(\n",
    "            f\"Warning: Skipping '{new_col_name}'. Start column '{start_col}' or end column '{end_col}' not found.\"\n",
    "        )\n",
    "\n",
    "print(\n",
    "    f\"Columns created:\\n{[col for col in ecom_data_df.columns if col in [spec[0] for spec in duration_specs]]}\"\n",
    ")\n",
    "print(\"Time-based features creation complete!\")"
   ]
  },
  {
   "cell_type": "markdown",
   "id": "3d03ddac",
   "metadata": {},
   "source": [
    "## Investigate Order-Payment Relationship & Create Order Level (Non-Payment) Feature"
   ]
  },
  {
   "cell_type": "code",
   "execution_count": 8,
   "id": "0d4b653e",
   "metadata": {},
   "outputs": [
    {
     "name": "stdout",
     "output_type": "stream",
     "text": [
      "-- Investigate relations order-payment --\n",
      "unique number of order_id: 6817\n",
      "total order_id with multiple rows: 465\n",
      "Payment details for sample order_id with multiple rows (465c2e1bee4561cb39e0db8c5993aafc):\n"
     ]
    },
    {
     "data": {
      "text/html": [
       "<div>\n",
       "<style scoped>\n",
       "    .dataframe tbody tr th:only-of-type {\n",
       "        vertical-align: middle;\n",
       "    }\n",
       "\n",
       "    .dataframe tbody tr th {\n",
       "        vertical-align: top;\n",
       "    }\n",
       "\n",
       "    .dataframe thead th {\n",
       "        text-align: right;\n",
       "    }\n",
       "</style>\n",
       "<table border=\"1\" class=\"dataframe\">\n",
       "  <thead>\n",
       "    <tr style=\"text-align: right;\">\n",
       "      <th></th>\n",
       "      <th>order_id</th>\n",
       "      <th>payment_sequential</th>\n",
       "      <th>payment_type</th>\n",
       "      <th>payment_installments</th>\n",
       "      <th>payment_value</th>\n",
       "      <th>price</th>\n",
       "      <th>freight_value</th>\n",
       "    </tr>\n",
       "  </thead>\n",
       "  <tbody>\n",
       "    <tr>\n",
       "      <th>2095</th>\n",
       "      <td>465c2e1bee4561cb39e0db8c5993aafc</td>\n",
       "      <td>8.0</td>\n",
       "      <td>voucher</td>\n",
       "      <td>1.0</td>\n",
       "      <td>41.03</td>\n",
       "      <td>412.0</td>\n",
       "      <td>27.72</td>\n",
       "    </tr>\n",
       "    <tr>\n",
       "      <th>2096</th>\n",
       "      <td>465c2e1bee4561cb39e0db8c5993aafc</td>\n",
       "      <td>8.0</td>\n",
       "      <td>voucher</td>\n",
       "      <td>1.0</td>\n",
       "      <td>41.03</td>\n",
       "      <td>412.0</td>\n",
       "      <td>27.72</td>\n",
       "    </tr>\n",
       "    <tr>\n",
       "      <th>2097</th>\n",
       "      <td>465c2e1bee4561cb39e0db8c5993aafc</td>\n",
       "      <td>4.0</td>\n",
       "      <td>voucher</td>\n",
       "      <td>1.0</td>\n",
       "      <td>59.40</td>\n",
       "      <td>412.0</td>\n",
       "      <td>27.72</td>\n",
       "    </tr>\n",
       "    <tr>\n",
       "      <th>2098</th>\n",
       "      <td>465c2e1bee4561cb39e0db8c5993aafc</td>\n",
       "      <td>4.0</td>\n",
       "      <td>voucher</td>\n",
       "      <td>1.0</td>\n",
       "      <td>59.40</td>\n",
       "      <td>412.0</td>\n",
       "      <td>27.72</td>\n",
       "    </tr>\n",
       "    <tr>\n",
       "      <th>2099</th>\n",
       "      <td>465c2e1bee4561cb39e0db8c5993aafc</td>\n",
       "      <td>2.0</td>\n",
       "      <td>voucher</td>\n",
       "      <td>1.0</td>\n",
       "      <td>26.18</td>\n",
       "      <td>412.0</td>\n",
       "      <td>27.72</td>\n",
       "    </tr>\n",
       "  </tbody>\n",
       "</table>\n",
       "</div>"
      ],
      "text/plain": [
       "                              order_id  payment_sequential payment_type  \\\n",
       "2095  465c2e1bee4561cb39e0db8c5993aafc                 8.0      voucher   \n",
       "2096  465c2e1bee4561cb39e0db8c5993aafc                 8.0      voucher   \n",
       "2097  465c2e1bee4561cb39e0db8c5993aafc                 4.0      voucher   \n",
       "2098  465c2e1bee4561cb39e0db8c5993aafc                 4.0      voucher   \n",
       "2099  465c2e1bee4561cb39e0db8c5993aafc                 2.0      voucher   \n",
       "\n",
       "      payment_installments  payment_value  price  freight_value  \n",
       "2095                   1.0          41.03  412.0          27.72  \n",
       "2096                   1.0          41.03  412.0          27.72  \n",
       "2097                   1.0          59.40  412.0          27.72  \n",
       "2098                   1.0          59.40  412.0          27.72  \n",
       "2099                   1.0          26.18  412.0          27.72  "
      ]
     },
     "metadata": {},
     "output_type": "display_data"
    },
    {
     "name": "stdout",
     "output_type": "stream",
     "text": [
      "total number of multiple rows: 12\n"
     ]
    }
   ],
   "source": [
    "print(\"-- Investigate relations order-payment --\")\n",
    "\n",
    "# Count how many rows for each order_id\n",
    "order_id_counts = ecom_data_df[\"order_id\"].value_counts()\n",
    "\n",
    "# identification order_id that appears more than once (orders with multi-item or multi-payment)\n",
    "multiple_rows_order_ids = order_id_counts[order_id_counts > 1].index.tolist()\n",
    "\n",
    "print(f\"unique number of order_id: {len(order_id_counts)}\")\n",
    "print(f\"total order_id with multiple rows: {len(multiple_rows_order_ids)}\")\n",
    "\n",
    "if multiple_rows_order_ids:\n",
    "    sample_order_id = multiple_rows_order_ids[0]\n",
    "    print(\n",
    "        f\"Payment details for sample order_id with multiple rows ({sample_order_id}):\"\n",
    "    )\n",
    "    display(\n",
    "        ecom_data_df[ecom_data_df[\"order_id\"] == sample_order_id][\n",
    "            [\n",
    "                \"order_id\",\n",
    "                \"payment_sequential\",\n",
    "                \"payment_type\",\n",
    "                \"payment_installments\",\n",
    "                \"payment_value\",\n",
    "                \"price\",\n",
    "                \"freight_value\",\n",
    "            ]\n",
    "        ].head()\n",
    "    )\n",
    "    print(f\"total number of multiple rows: {len(ecom_data_df[ecom_data_df[\"order_id\"] == sample_order_id])}\")\n",
    "else:\n",
    "    print(\n",
    "        \"No order_id with multiple rows was found in the DataFrame (after this cleanup).\"\n",
    "    )"
   ]
  },
  {
   "cell_type": "markdown",
   "id": "5cedc4d0",
   "metadata": {},
   "source": [
    "## Make feature level Comprehensif Order"
   ]
  },
  {
   "cell_type": "code",
   "execution_count": 9,
   "id": "14fb1932",
   "metadata": {},
   "outputs": [],
   "source": [
    "# Aggregate data from level item/payment to level order_id\n",
    "order_level_features_df = (\n",
    "    ecom_data_df.groupby(\"order_id\")\n",
    "    .agg(\n",
    "        # moneter feature\n",
    "        total_payment_value=(\"payment_value\", \"sum\"),\n",
    "        total_item_price=(\"price\", \"sum\"),\n",
    "        total_freight_value=(\"freight_value\", \"sum\"),\n",
    "        # item/product feature\n",
    "        number_of_rows_in_orders=(\"order_item_id\", \"count\"),\n",
    "        number_of_unique_products=(\"product_id\", lambda x: x.nunique()),\n",
    "        # payment feature\n",
    "        max_payment_sequential=(\"payment_sequential\", \"max\"),\n",
    "        number_of_unique_payment_types=(\"payment_type\", lambda x: x.nunique()),\n",
    "        max_payment_installments=(\"payment_installments\", \"max\"),\n",
    "    )\n",
    "    .reset_index()\n",
    ")"
   ]
  },
  {
   "cell_type": "code",
   "execution_count": 10,
   "id": "e651e52c",
   "metadata": {},
   "outputs": [
    {
     "name": "stdout",
     "output_type": "stream",
     "text": [
      "Verification: The created object is indeed a pandas DataFrame.\n"
     ]
    },
    {
     "data": {
      "text/html": [
       "<div>\n",
       "<style scoped>\n",
       "    .dataframe tbody tr th:only-of-type {\n",
       "        vertical-align: middle;\n",
       "    }\n",
       "\n",
       "    .dataframe tbody tr th {\n",
       "        vertical-align: top;\n",
       "    }\n",
       "\n",
       "    .dataframe thead th {\n",
       "        text-align: right;\n",
       "    }\n",
       "</style>\n",
       "<table border=\"1\" class=\"dataframe\">\n",
       "  <thead>\n",
       "    <tr style=\"text-align: right;\">\n",
       "      <th></th>\n",
       "      <th>order_id</th>\n",
       "      <th>total_payment_value</th>\n",
       "      <th>total_item_price</th>\n",
       "      <th>total_freight_value</th>\n",
       "      <th>number_of_rows_in_orders</th>\n",
       "      <th>number_of_unique_products</th>\n",
       "      <th>max_payment_sequential</th>\n",
       "      <th>number_of_unique_payment_types</th>\n",
       "      <th>max_payment_installments</th>\n",
       "    </tr>\n",
       "  </thead>\n",
       "  <tbody>\n",
       "    <tr>\n",
       "      <th>0</th>\n",
       "      <td>0011d82c4b53e22e84023405fb467e57</td>\n",
       "      <td>315.33</td>\n",
       "      <td>289.0</td>\n",
       "      <td>26.33</td>\n",
       "      <td>1</td>\n",
       "      <td>1</td>\n",
       "      <td>1.0</td>\n",
       "      <td>1</td>\n",
       "      <td>2.0</td>\n",
       "    </tr>\n",
       "    <tr>\n",
       "      <th>1</th>\n",
       "      <td>00229e4e43f7a7e0b9dd819ad43268d3</td>\n",
       "      <td>91.39</td>\n",
       "      <td>74.9</td>\n",
       "      <td>16.49</td>\n",
       "      <td>1</td>\n",
       "      <td>1</td>\n",
       "      <td>1.0</td>\n",
       "      <td>1</td>\n",
       "      <td>1.0</td>\n",
       "    </tr>\n",
       "    <tr>\n",
       "      <th>2</th>\n",
       "      <td>002b4e6fa42cd4a22cc86abc18fe9c05</td>\n",
       "      <td>119.57</td>\n",
       "      <td>99.9</td>\n",
       "      <td>19.67</td>\n",
       "      <td>1</td>\n",
       "      <td>1</td>\n",
       "      <td>1.0</td>\n",
       "      <td>1</td>\n",
       "      <td>2.0</td>\n",
       "    </tr>\n",
       "    <tr>\n",
       "      <th>3</th>\n",
       "      <td>00345f338696283410b7977d2e3efc89</td>\n",
       "      <td>67.34</td>\n",
       "      <td>48.9</td>\n",
       "      <td>18.44</td>\n",
       "      <td>1</td>\n",
       "      <td>1</td>\n",
       "      <td>1.0</td>\n",
       "      <td>1</td>\n",
       "      <td>1.0</td>\n",
       "    </tr>\n",
       "    <tr>\n",
       "      <th>4</th>\n",
       "      <td>003d0634280ff3d1d3a54459349a6899</td>\n",
       "      <td>228.89</td>\n",
       "      <td>220.0</td>\n",
       "      <td>8.89</td>\n",
       "      <td>1</td>\n",
       "      <td>1</td>\n",
       "      <td>1.0</td>\n",
       "      <td>1</td>\n",
       "      <td>1.0</td>\n",
       "    </tr>\n",
       "  </tbody>\n",
       "</table>\n",
       "</div>"
      ],
      "text/plain": [
       "                           order_id  total_payment_value  total_item_price  \\\n",
       "0  0011d82c4b53e22e84023405fb467e57               315.33             289.0   \n",
       "1  00229e4e43f7a7e0b9dd819ad43268d3                91.39              74.9   \n",
       "2  002b4e6fa42cd4a22cc86abc18fe9c05               119.57              99.9   \n",
       "3  00345f338696283410b7977d2e3efc89                67.34              48.9   \n",
       "4  003d0634280ff3d1d3a54459349a6899               228.89             220.0   \n",
       "\n",
       "   total_freight_value  number_of_rows_in_orders  number_of_unique_products  \\\n",
       "0                26.33                         1                          1   \n",
       "1                16.49                         1                          1   \n",
       "2                19.67                         1                          1   \n",
       "3                18.44                         1                          1   \n",
       "4                 8.89                         1                          1   \n",
       "\n",
       "   max_payment_sequential  number_of_unique_payment_types  \\\n",
       "0                     1.0                               1   \n",
       "1                     1.0                               1   \n",
       "2                     1.0                               1   \n",
       "3                     1.0                               1   \n",
       "4                     1.0                               1   \n",
       "\n",
       "   max_payment_installments  \n",
       "0                       2.0  \n",
       "1                       1.0  \n",
       "2                       2.0  \n",
       "3                       1.0  \n",
       "4                       1.0  "
      ]
     },
     "metadata": {},
     "output_type": "display_data"
    },
    {
     "name": "stdout",
     "output_type": "stream",
     "text": [
      "<class 'pandas.core.frame.DataFrame'>\n",
      "RangeIndex: 6817 entries, 0 to 6816\n",
      "Data columns (total 9 columns):\n",
      " #   Column                          Non-Null Count  Dtype  \n",
      "---  ------                          --------------  -----  \n",
      " 0   order_id                        6817 non-null   object \n",
      " 1   total_payment_value             6817 non-null   float64\n",
      " 2   total_item_price                6817 non-null   float64\n",
      " 3   total_freight_value             6817 non-null   float64\n",
      " 4   number_of_rows_in_orders        6817 non-null   int64  \n",
      " 5   number_of_unique_products       6817 non-null   int64  \n",
      " 6   max_payment_sequential          6817 non-null   float64\n",
      " 7   number_of_unique_payment_types  6817 non-null   int64  \n",
      " 8   max_payment_installments        6817 non-null   float64\n",
      "dtypes: float64(5), int64(3), object(1)\n",
      "memory usage: 479.4+ KB\n",
      "None\n"
     ]
    }
   ],
   "source": [
    "if isinstance(order_level_features_df, pd.DataFrame):\n",
    "    print(\"Verification: The created object is indeed a pandas DataFrame.\")\n",
    "    display(order_level_features_df.head())\n",
    "    print(order_level_features_df.info())\n",
    "else:\n",
    "    print(\"Verification Warning: The created object is NOT a pandas DataFrame.\")"
   ]
  },
  {
   "cell_type": "markdown",
   "id": "bb858956",
   "metadata": {},
   "source": [
    "## RFM Analysis"
   ]
  },
  {
   "cell_type": "code",
   "execution_count": 11,
   "id": "e5b8dc64",
   "metadata": {},
   "outputs": [
    {
     "name": "stdout",
     "output_type": "stream",
     "text": [
      "Verification: The created object is indeed a pandas DataFrame.\n"
     ]
    },
    {
     "data": {
      "text/html": [
       "<div>\n",
       "<style scoped>\n",
       "    .dataframe tbody tr th:only-of-type {\n",
       "        vertical-align: middle;\n",
       "    }\n",
       "\n",
       "    .dataframe tbody tr th {\n",
       "        vertical-align: top;\n",
       "    }\n",
       "\n",
       "    .dataframe thead th {\n",
       "        text-align: right;\n",
       "    }\n",
       "</style>\n",
       "<table border=\"1\" class=\"dataframe\">\n",
       "  <thead>\n",
       "    <tr style=\"text-align: right;\">\n",
       "      <th></th>\n",
       "      <th>order_id</th>\n",
       "      <th>customer_unique_id</th>\n",
       "      <th>total_payment_value</th>\n",
       "    </tr>\n",
       "  </thead>\n",
       "  <tbody>\n",
       "    <tr>\n",
       "      <th>0</th>\n",
       "      <td>0011d82c4b53e22e84023405fb467e57</td>\n",
       "      <td>02daaa0e021d624d1784c4ea5cc84ace</td>\n",
       "      <td>315.33</td>\n",
       "    </tr>\n",
       "    <tr>\n",
       "      <th>1</th>\n",
       "      <td>00229e4e43f7a7e0b9dd819ad43268d3</td>\n",
       "      <td>12d280dc9e8bf7888a3d2a8a8ae74f8d</td>\n",
       "      <td>91.39</td>\n",
       "    </tr>\n",
       "    <tr>\n",
       "      <th>2</th>\n",
       "      <td>002b4e6fa42cd4a22cc86abc18fe9c05</td>\n",
       "      <td>248d18ee4a4b0977fd21ef3273eb4352</td>\n",
       "      <td>119.57</td>\n",
       "    </tr>\n",
       "    <tr>\n",
       "      <th>3</th>\n",
       "      <td>00345f338696283410b7977d2e3efc89</td>\n",
       "      <td>93b592cbb89abbda7dc554c39add344e</td>\n",
       "      <td>67.34</td>\n",
       "    </tr>\n",
       "    <tr>\n",
       "      <th>4</th>\n",
       "      <td>003d0634280ff3d1d3a54459349a6899</td>\n",
       "      <td>2fe9477037604b2d6f60ffc998eb0812</td>\n",
       "      <td>228.89</td>\n",
       "    </tr>\n",
       "  </tbody>\n",
       "</table>\n",
       "</div>"
      ],
      "text/plain": [
       "                           order_id                customer_unique_id  \\\n",
       "0  0011d82c4b53e22e84023405fb467e57  02daaa0e021d624d1784c4ea5cc84ace   \n",
       "1  00229e4e43f7a7e0b9dd819ad43268d3  12d280dc9e8bf7888a3d2a8a8ae74f8d   \n",
       "2  002b4e6fa42cd4a22cc86abc18fe9c05  248d18ee4a4b0977fd21ef3273eb4352   \n",
       "3  00345f338696283410b7977d2e3efc89  93b592cbb89abbda7dc554c39add344e   \n",
       "4  003d0634280ff3d1d3a54459349a6899  2fe9477037604b2d6f60ffc998eb0812   \n",
       "\n",
       "   total_payment_value  \n",
       "0               315.33  \n",
       "1                91.39  \n",
       "2               119.57  \n",
       "3                67.34  \n",
       "4               228.89  "
      ]
     },
     "metadata": {},
     "output_type": "display_data"
    }
   ],
   "source": [
    "order_customer_mapping = ecom_data_df[\n",
    "    [\"order_id\", \"customer_unique_id\"]\n",
    "].drop_duplicates()\n",
    "\n",
    "# merge mapping using 'order_id'\n",
    "order_level_features_df = pd.merge(\n",
    "    order_level_features_df, order_customer_mapping, how=\"left\", on=\"order_id\"\n",
    ")\n",
    "\n",
    "if isinstance(order_level_features_df, pd.DataFrame):\n",
    "    print(\"Verification: The created object is indeed a pandas DataFrame.\")\n",
    "    display(\n",
    "        order_level_features_df[\n",
    "            [\"order_id\", \"customer_unique_id\", \"total_payment_value\"]\n",
    "        ].head()\n",
    "    )\n",
    "else:\n",
    "    print(\"Verification Warning: The created object is NOT a pandas DataFrame.\")"
   ]
  },
  {
   "cell_type": "markdown",
   "id": "df1bdb52",
   "metadata": {},
   "source": [
    "Calculate Frequency (F) and Monetary (M) per customer"
   ]
  },
  {
   "cell_type": "code",
   "execution_count": 12,
   "id": "7b34f629",
   "metadata": {},
   "outputs": [],
   "source": [
    "# aggregate dataframe 'order_level_features_df' base 'customer_unique_id'\n",
    "customer_rfm_fm_df = (\n",
    "    order_level_features_df.groupby(\"customer_unique_id\")\n",
    "    .agg(\n",
    "        frequency=(\"order_id\", \"count\"),\n",
    "        monetary=(\"total_payment_value\", \"sum\"),\n",
    "    )\n",
    "    .reset_index()\n",
    ")"
   ]
  },
  {
   "cell_type": "code",
   "execution_count": 13,
   "id": "8d538535",
   "metadata": {},
   "outputs": [
    {
     "name": "stdout",
     "output_type": "stream",
     "text": [
      "Verification: The created object is indeed a pandas DataFrame.\n"
     ]
    },
    {
     "data": {
      "text/html": [
       "<div>\n",
       "<style scoped>\n",
       "    .dataframe tbody tr th:only-of-type {\n",
       "        vertical-align: middle;\n",
       "    }\n",
       "\n",
       "    .dataframe tbody tr th {\n",
       "        vertical-align: top;\n",
       "    }\n",
       "\n",
       "    .dataframe thead th {\n",
       "        text-align: right;\n",
       "    }\n",
       "</style>\n",
       "<table border=\"1\" class=\"dataframe\">\n",
       "  <thead>\n",
       "    <tr style=\"text-align: right;\">\n",
       "      <th></th>\n",
       "      <th>customer_unique_id</th>\n",
       "      <th>frequency</th>\n",
       "      <th>monetary</th>\n",
       "    </tr>\n",
       "  </thead>\n",
       "  <tbody>\n",
       "    <tr>\n",
       "      <th>0</th>\n",
       "      <td>001147e649a7b1afd577e873841632dd</td>\n",
       "      <td>1</td>\n",
       "      <td>0.00</td>\n",
       "    </tr>\n",
       "    <tr>\n",
       "      <th>1</th>\n",
       "      <td>0015752e079902b12cd00b9b7596276b</td>\n",
       "      <td>1</td>\n",
       "      <td>0.00</td>\n",
       "    </tr>\n",
       "    <tr>\n",
       "      <th>2</th>\n",
       "      <td>00293787e2aec37a9c253b63fdfe2049</td>\n",
       "      <td>1</td>\n",
       "      <td>257.87</td>\n",
       "    </tr>\n",
       "    <tr>\n",
       "      <th>3</th>\n",
       "      <td>002d3bd901608f67c3fc11eaaa842b13</td>\n",
       "      <td>1</td>\n",
       "      <td>28.76</td>\n",
       "    </tr>\n",
       "    <tr>\n",
       "      <th>4</th>\n",
       "      <td>003fb95e849e71e732629d94bb92762f</td>\n",
       "      <td>1</td>\n",
       "      <td>77.59</td>\n",
       "    </tr>\n",
       "  </tbody>\n",
       "</table>\n",
       "</div>"
      ],
      "text/plain": [
       "                 customer_unique_id  frequency  monetary\n",
       "0  001147e649a7b1afd577e873841632dd          1      0.00\n",
       "1  0015752e079902b12cd00b9b7596276b          1      0.00\n",
       "2  00293787e2aec37a9c253b63fdfe2049          1    257.87\n",
       "3  002d3bd901608f67c3fc11eaaa842b13          1     28.76\n",
       "4  003fb95e849e71e732629d94bb92762f          1     77.59"
      ]
     },
     "metadata": {},
     "output_type": "display_data"
    },
    {
     "name": "stdout",
     "output_type": "stream",
     "text": [
      "<class 'pandas.core.frame.DataFrame'>\n",
      "RangeIndex: 6798 entries, 0 to 6797\n",
      "Data columns (total 3 columns):\n",
      " #   Column              Non-Null Count  Dtype  \n",
      "---  ------              --------------  -----  \n",
      " 0   customer_unique_id  6798 non-null   object \n",
      " 1   frequency           6798 non-null   int64  \n",
      " 2   monetary            6798 non-null   float64\n",
      "dtypes: float64(1), int64(1), object(1)\n",
      "memory usage: 159.5+ KB\n",
      "None\n"
     ]
    }
   ],
   "source": [
    "if isinstance(customer_rfm_fm_df, pd.DataFrame):\n",
    "    print(\"Verification: The created object is indeed a pandas DataFrame.\")\n",
    "    display(customer_rfm_fm_df.head())\n",
    "    print(customer_rfm_fm_df.info())\n",
    "else:\n",
    "    print(\"Verification Warning: The created object is NOT a pandas DataFrame.\")"
   ]
  },
  {
   "cell_type": "markdown",
   "id": "5312b112",
   "metadata": {},
   "source": [
    "identify Snapshot Date Recency"
   ]
  },
  {
   "cell_type": "code",
   "execution_count": 14,
   "id": "4eb30e25",
   "metadata": {},
   "outputs": [
    {
     "name": "stdout",
     "output_type": "stream",
     "text": [
      "latest order date: 2018-09-09 14:42:05\n"
     ]
    }
   ],
   "source": [
    "latest_order_date = ecom_data_df[\"order_purchase_timestamp\"].max()\n",
    "print(f\"latest order date: {latest_order_date}\")"
   ]
  },
  {
   "cell_type": "markdown",
   "id": "b7478d79",
   "metadata": {},
   "source": [
    "Set Final Date Recency"
   ]
  },
  {
   "cell_type": "code",
   "execution_count": 15,
   "id": "d8e0ca28",
   "metadata": {},
   "outputs": [
    {
     "name": "stdout",
     "output_type": "stream",
     "text": [
      "snapshot date recency: 2018-09-10 14:42:05\n"
     ]
    }
   ],
   "source": [
    "snaphot_date = latest_order_date + pd.Timedelta(days=1)\n",
    "print(f\"snapshot date recency: {snaphot_date}\")"
   ]
  },
  {
   "cell_type": "markdown",
   "id": "a54a5702",
   "metadata": {},
   "source": [
    "Identify Last Order Date per Customer"
   ]
  },
  {
   "cell_type": "code",
   "execution_count": 16,
   "id": "3fb4fb6c",
   "metadata": {},
   "outputs": [],
   "source": [
    "latest_order_per_customer = (\n",
    "    ecom_data_df.groupby(\"customer_unique_id\")[\"order_purchase_timestamp\"]\n",
    "    .max()\n",
    "    .reset_index()\n",
    ")"
   ]
  },
  {
   "cell_type": "markdown",
   "id": "95e0a234",
   "metadata": {},
   "source": [
    "Calculate Recency (R)"
   ]
  },
  {
   "cell_type": "markdown",
   "id": "13d21003",
   "metadata": {},
   "source": [
    "calculate the difference between days `snapshot_date` and the date of their last order `latest_order_per_customer`."
   ]
  },
  {
   "cell_type": "code",
   "execution_count": 17,
   "id": "3e9ea5e7",
   "metadata": {},
   "outputs": [],
   "source": [
    "latest_order_per_customer[\"Recency\"] = (\n",
    "    snaphot_date - latest_order_per_customer[\"order_purchase_timestamp\"]\n",
    ").dt.days\n",
    "\n",
    "# change data type 'Recency' from object to number\n",
    "latest_order_per_customer[\"Recency\"] = latest_order_per_customer[\"Recency\"].astype(int)"
   ]
  },
  {
   "cell_type": "code",
   "execution_count": 18,
   "id": "066134e9",
   "metadata": {},
   "outputs": [
    {
     "data": {
      "text/html": [
       "<div>\n",
       "<style scoped>\n",
       "    .dataframe tbody tr th:only-of-type {\n",
       "        vertical-align: middle;\n",
       "    }\n",
       "\n",
       "    .dataframe tbody tr th {\n",
       "        vertical-align: top;\n",
       "    }\n",
       "\n",
       "    .dataframe thead th {\n",
       "        text-align: right;\n",
       "    }\n",
       "</style>\n",
       "<table border=\"1\" class=\"dataframe\">\n",
       "  <thead>\n",
       "    <tr style=\"text-align: right;\">\n",
       "      <th></th>\n",
       "      <th>customer_unique_id</th>\n",
       "      <th>order_purchase_timestamp</th>\n",
       "      <th>Recency</th>\n",
       "    </tr>\n",
       "  </thead>\n",
       "  <tbody>\n",
       "    <tr>\n",
       "      <th>0</th>\n",
       "      <td>001147e649a7b1afd577e873841632dd</td>\n",
       "      <td>2017-08-30 14:02:49</td>\n",
       "      <td>376</td>\n",
       "    </tr>\n",
       "    <tr>\n",
       "      <th>1</th>\n",
       "      <td>0015752e079902b12cd00b9b7596276b</td>\n",
       "      <td>2018-08-02 18:23:51</td>\n",
       "      <td>38</td>\n",
       "    </tr>\n",
       "    <tr>\n",
       "      <th>2</th>\n",
       "      <td>00293787e2aec37a9c253b63fdfe2049</td>\n",
       "      <td>2017-10-25 16:44:50</td>\n",
       "      <td>319</td>\n",
       "    </tr>\n",
       "    <tr>\n",
       "      <th>3</th>\n",
       "      <td>002d3bd901608f67c3fc11eaaa842b13</td>\n",
       "      <td>2018-01-17 14:09:01</td>\n",
       "      <td>236</td>\n",
       "    </tr>\n",
       "    <tr>\n",
       "      <th>4</th>\n",
       "      <td>003fb95e849e71e732629d94bb92762f</td>\n",
       "      <td>2018-07-29 07:39:37</td>\n",
       "      <td>43</td>\n",
       "    </tr>\n",
       "  </tbody>\n",
       "</table>\n",
       "</div>"
      ],
      "text/plain": [
       "                 customer_unique_id order_purchase_timestamp  Recency\n",
       "0  001147e649a7b1afd577e873841632dd      2017-08-30 14:02:49      376\n",
       "1  0015752e079902b12cd00b9b7596276b      2018-08-02 18:23:51       38\n",
       "2  00293787e2aec37a9c253b63fdfe2049      2017-10-25 16:44:50      319\n",
       "3  002d3bd901608f67c3fc11eaaa842b13      2018-01-17 14:09:01      236\n",
       "4  003fb95e849e71e732629d94bb92762f      2018-07-29 07:39:37       43"
      ]
     },
     "metadata": {},
     "output_type": "display_data"
    },
    {
     "name": "stdout",
     "output_type": "stream",
     "text": [
      "<class 'pandas.core.frame.DataFrame'>\n",
      "RangeIndex: 6798 entries, 0 to 6797\n",
      "Data columns (total 3 columns):\n",
      " #   Column                    Non-Null Count  Dtype         \n",
      "---  ------                    --------------  -----         \n",
      " 0   customer_unique_id        6798 non-null   object        \n",
      " 1   order_purchase_timestamp  6798 non-null   datetime64[ns]\n",
      " 2   Recency                   6798 non-null   int64         \n",
      "dtypes: datetime64[ns](1), int64(1), object(1)\n",
      "memory usage: 159.5+ KB\n",
      "None\n"
     ]
    }
   ],
   "source": [
    "display(latest_order_per_customer.head())\n",
    "print(latest_order_per_customer.info())"
   ]
  },
  {
   "cell_type": "markdown",
   "id": "069b18d9",
   "metadata": {},
   "source": [
    "Merge Recency to RFM DataFrame"
   ]
  },
  {
   "cell_type": "code",
   "execution_count": 19,
   "id": "152da30d",
   "metadata": {},
   "outputs": [],
   "source": [
    "customer_rfm_final_df = pd.merge(\n",
    "    customer_rfm_fm_df,\n",
    "    latest_order_per_customer[[\"customer_unique_id\", \"Recency\"]],\n",
    "    on=\"customer_unique_id\",\n",
    "    how=\"left\",\n",
    ")"
   ]
  },
  {
   "cell_type": "code",
   "execution_count": 20,
   "id": "67f9d7fb",
   "metadata": {},
   "outputs": [
    {
     "data": {
      "text/html": [
       "<div>\n",
       "<style scoped>\n",
       "    .dataframe tbody tr th:only-of-type {\n",
       "        vertical-align: middle;\n",
       "    }\n",
       "\n",
       "    .dataframe tbody tr th {\n",
       "        vertical-align: top;\n",
       "    }\n",
       "\n",
       "    .dataframe thead th {\n",
       "        text-align: right;\n",
       "    }\n",
       "</style>\n",
       "<table border=\"1\" class=\"dataframe\">\n",
       "  <thead>\n",
       "    <tr style=\"text-align: right;\">\n",
       "      <th></th>\n",
       "      <th>customer_unique_id</th>\n",
       "      <th>frequency</th>\n",
       "      <th>monetary</th>\n",
       "      <th>Recency</th>\n",
       "    </tr>\n",
       "  </thead>\n",
       "  <tbody>\n",
       "    <tr>\n",
       "      <th>0</th>\n",
       "      <td>001147e649a7b1afd577e873841632dd</td>\n",
       "      <td>1</td>\n",
       "      <td>0.00</td>\n",
       "      <td>376</td>\n",
       "    </tr>\n",
       "    <tr>\n",
       "      <th>1</th>\n",
       "      <td>0015752e079902b12cd00b9b7596276b</td>\n",
       "      <td>1</td>\n",
       "      <td>0.00</td>\n",
       "      <td>38</td>\n",
       "    </tr>\n",
       "    <tr>\n",
       "      <th>2</th>\n",
       "      <td>00293787e2aec37a9c253b63fdfe2049</td>\n",
       "      <td>1</td>\n",
       "      <td>257.87</td>\n",
       "      <td>319</td>\n",
       "    </tr>\n",
       "    <tr>\n",
       "      <th>3</th>\n",
       "      <td>002d3bd901608f67c3fc11eaaa842b13</td>\n",
       "      <td>1</td>\n",
       "      <td>28.76</td>\n",
       "      <td>236</td>\n",
       "    </tr>\n",
       "    <tr>\n",
       "      <th>4</th>\n",
       "      <td>003fb95e849e71e732629d94bb92762f</td>\n",
       "      <td>1</td>\n",
       "      <td>77.59</td>\n",
       "      <td>43</td>\n",
       "    </tr>\n",
       "  </tbody>\n",
       "</table>\n",
       "</div>"
      ],
      "text/plain": [
       "                 customer_unique_id  frequency  monetary  Recency\n",
       "0  001147e649a7b1afd577e873841632dd          1      0.00      376\n",
       "1  0015752e079902b12cd00b9b7596276b          1      0.00       38\n",
       "2  00293787e2aec37a9c253b63fdfe2049          1    257.87      319\n",
       "3  002d3bd901608f67c3fc11eaaa842b13          1     28.76      236\n",
       "4  003fb95e849e71e732629d94bb92762f          1     77.59       43"
      ]
     },
     "execution_count": 20,
     "metadata": {},
     "output_type": "execute_result"
    }
   ],
   "source": [
    "customer_rfm_final_df.head()"
   ]
  },
  {
   "cell_type": "markdown",
   "id": "72dc5c41",
   "metadata": {},
   "source": [
    "Replace name rfm with standard naming 'Rencency', 'Monetary', 'Frequency'"
   ]
  },
  {
   "cell_type": "code",
   "execution_count": null,
   "id": "24fa21f0",
   "metadata": {},
   "outputs": [],
   "source": [
    "customer_rfm_final_df.rename(\n",
    "    columns={\"frequency\": \"Frequency\", \"monetary\": \"Monetary\"}, inplace=True\n",
    ")"
   ]
  },
  {
   "cell_type": "code",
   "execution_count": null,
   "id": "c6aa5f00",
   "metadata": {},
   "outputs": [
    {
     "data": {
      "text/html": [
       "<div>\n",
       "<style scoped>\n",
       "    .dataframe tbody tr th:only-of-type {\n",
       "        vertical-align: middle;\n",
       "    }\n",
       "\n",
       "    .dataframe tbody tr th {\n",
       "        vertical-align: top;\n",
       "    }\n",
       "\n",
       "    .dataframe thead th {\n",
       "        text-align: right;\n",
       "    }\n",
       "</style>\n",
       "<table border=\"1\" class=\"dataframe\">\n",
       "  <thead>\n",
       "    <tr style=\"text-align: right;\">\n",
       "      <th></th>\n",
       "      <th>Frequency</th>\n",
       "      <th>Monetary</th>\n",
       "      <th>Recency</th>\n",
       "    </tr>\n",
       "  </thead>\n",
       "  <tbody>\n",
       "    <tr>\n",
       "      <th>0</th>\n",
       "      <td>1</td>\n",
       "      <td>0.00</td>\n",
       "      <td>376</td>\n",
       "    </tr>\n",
       "    <tr>\n",
       "      <th>1</th>\n",
       "      <td>1</td>\n",
       "      <td>0.00</td>\n",
       "      <td>38</td>\n",
       "    </tr>\n",
       "    <tr>\n",
       "      <th>2</th>\n",
       "      <td>1</td>\n",
       "      <td>257.87</td>\n",
       "      <td>319</td>\n",
       "    </tr>\n",
       "    <tr>\n",
       "      <th>3</th>\n",
       "      <td>1</td>\n",
       "      <td>28.76</td>\n",
       "      <td>236</td>\n",
       "    </tr>\n",
       "    <tr>\n",
       "      <th>4</th>\n",
       "      <td>1</td>\n",
       "      <td>77.59</td>\n",
       "      <td>43</td>\n",
       "    </tr>\n",
       "  </tbody>\n",
       "</table>\n",
       "</div>"
      ],
      "text/plain": [
       "   Frequency  Monetary  Recency\n",
       "0          1      0.00      376\n",
       "1          1      0.00       38\n",
       "2          1    257.87      319\n",
       "3          1     28.76      236\n",
       "4          1     77.59       43"
      ]
     },
     "metadata": {},
     "output_type": "display_data"
    },
    {
     "data": {
      "text/html": [
       "<div>\n",
       "<style scoped>\n",
       "    .dataframe tbody tr th:only-of-type {\n",
       "        vertical-align: middle;\n",
       "    }\n",
       "\n",
       "    .dataframe tbody tr th {\n",
       "        vertical-align: top;\n",
       "    }\n",
       "\n",
       "    .dataframe thead th {\n",
       "        text-align: right;\n",
       "    }\n",
       "</style>\n",
       "<table border=\"1\" class=\"dataframe\">\n",
       "  <thead>\n",
       "    <tr style=\"text-align: right;\">\n",
       "      <th></th>\n",
       "      <th>Frequency</th>\n",
       "      <th>Monetary</th>\n",
       "      <th>Recency</th>\n",
       "    </tr>\n",
       "  </thead>\n",
       "  <tbody>\n",
       "    <tr>\n",
       "      <th>count</th>\n",
       "      <td>6798.000000</td>\n",
       "      <td>6798.000000</td>\n",
       "      <td>6798.000000</td>\n",
       "    </tr>\n",
       "    <tr>\n",
       "      <th>mean</th>\n",
       "      <td>1.002795</td>\n",
       "      <td>189.250038</td>\n",
       "      <td>250.852751</td>\n",
       "    </tr>\n",
       "    <tr>\n",
       "      <th>std</th>\n",
       "      <td>0.052797</td>\n",
       "      <td>373.730931</td>\n",
       "      <td>153.443822</td>\n",
       "    </tr>\n",
       "    <tr>\n",
       "      <th>min</th>\n",
       "      <td>1.000000</td>\n",
       "      <td>0.000000</td>\n",
       "      <td>1.000000</td>\n",
       "    </tr>\n",
       "    <tr>\n",
       "      <th>25%</th>\n",
       "      <td>1.000000</td>\n",
       "      <td>58.387500</td>\n",
       "      <td>126.000000</td>\n",
       "    </tr>\n",
       "    <tr>\n",
       "      <th>50%</th>\n",
       "      <td>1.000000</td>\n",
       "      <td>106.040000</td>\n",
       "      <td>231.000000</td>\n",
       "    </tr>\n",
       "    <tr>\n",
       "      <th>75%</th>\n",
       "      <td>1.000000</td>\n",
       "      <td>189.145000</td>\n",
       "      <td>359.000000</td>\n",
       "    </tr>\n",
       "    <tr>\n",
       "      <th>max</th>\n",
       "      <td>2.000000</td>\n",
       "      <td>11200.200000</td>\n",
       "      <td>705.000000</td>\n",
       "    </tr>\n",
       "  </tbody>\n",
       "</table>\n",
       "</div>"
      ],
      "text/plain": [
       "         Frequency      Monetary      Recency\n",
       "count  6798.000000   6798.000000  6798.000000\n",
       "mean      1.002795    189.250038   250.852751\n",
       "std       0.052797    373.730931   153.443822\n",
       "min       1.000000      0.000000     1.000000\n",
       "25%       1.000000     58.387500   126.000000\n",
       "50%       1.000000    106.040000   231.000000\n",
       "75%       1.000000    189.145000   359.000000\n",
       "max       2.000000  11200.200000   705.000000"
      ]
     },
     "metadata": {},
     "output_type": "display_data"
    },
    {
     "name": "stdout",
     "output_type": "stream",
     "text": [
      "<class 'pandas.core.frame.DataFrame'>\n",
      "RangeIndex: 6798 entries, 0 to 6797\n",
      "Data columns (total 4 columns):\n",
      " #   Column              Non-Null Count  Dtype  \n",
      "---  ------              --------------  -----  \n",
      " 0   customer_unique_id  6798 non-null   object \n",
      " 1   Frequency           6798 non-null   int64  \n",
      " 2   Monetary            6798 non-null   float64\n",
      " 3   Recency             6798 non-null   int64  \n",
      "dtypes: float64(1), int64(2), object(1)\n",
      "memory usage: 212.6+ KB\n"
     ]
    },
    {
     "data": {
      "text/plain": [
       "None"
      ]
     },
     "metadata": {},
     "output_type": "display_data"
    }
   ],
   "source": [
    "display(customer_rfm_final_df[[\"Frequency\", \"Monetary\", \"Recency\"]].head())\n",
    "display(customer_rfm_final_df.describe())\n",
    "display(customer_rfm_final_df.info())"
   ]
  }
 ],
 "metadata": {
  "kernelspec": {
   "display_name": "base",
   "language": "python",
   "name": "python3"
  },
  "language_info": {
   "codemirror_mode": {
    "name": "ipython",
    "version": 3
   },
   "file_extension": ".py",
   "mimetype": "text/x-python",
   "name": "python",
   "nbconvert_exporter": "python",
   "pygments_lexer": "ipython3",
   "version": "3.12.7"
  }
 },
 "nbformat": 4,
 "nbformat_minor": 5
}
