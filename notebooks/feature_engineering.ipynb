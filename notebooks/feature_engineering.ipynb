{
 "cells": [
  {
   "cell_type": "markdown",
   "id": "cd98b2d8",
   "metadata": {},
   "source": [
    "# Feature Engineering"
   ]
  },
  {
   "cell_type": "code",
   "execution_count": 1,
   "id": "3dd4984d",
   "metadata": {},
   "outputs": [],
   "source": [
    "import pandas as pd\n",
    "import numpy as np"
   ]
  },
  {
   "cell_type": "markdown",
   "id": "2d66bb68",
   "metadata": {},
   "source": [
    "## Load Data"
   ]
  },
  {
   "cell_type": "code",
   "execution_count": 2,
   "id": "2114a709",
   "metadata": {},
   "outputs": [],
   "source": [
    "ecom_data_df = pd.read_parquet(\"../dataset/processed/olist_ecom_cleaned.parquet\")"
   ]
  },
  {
   "cell_type": "code",
   "execution_count": 3,
   "id": "da5895e5",
   "metadata": {},
   "outputs": [
    {
     "name": "stdout",
     "output_type": "stream",
     "text": [
      "<class 'pandas.core.frame.DataFrame'>\n",
      "RangeIndex: 7475 entries, 0 to 7474\n",
      "Data columns (total 30 columns):\n",
      " #   Column                         Non-Null Count  Dtype         \n",
      "---  ------                         --------------  -----         \n",
      " 0   customer_id                    7475 non-null   object        \n",
      " 1   customer_unique_id             7475 non-null   object        \n",
      " 2   customer_zip_code_prefix       6877 non-null   float64       \n",
      " 3   customer_city                  7475 non-null   object        \n",
      " 4   customer_state                 7475 non-null   object        \n",
      " 5   order_id                       7475 non-null   object        \n",
      " 6   order_status                   7475 non-null   object        \n",
      " 7   order_purchase_timestamp       7475 non-null   datetime64[ns]\n",
      " 8   order_approved_at              7475 non-null   datetime64[ns]\n",
      " 9   order_delivered_carrier_date   7409 non-null   datetime64[ns]\n",
      " 10  order_delivered_customer_date  7405 non-null   datetime64[ns]\n",
      " 11  order_estimated_delivery_date  7033 non-null   datetime64[ns]\n",
      " 12  payment_sequential             7475 non-null   float64       \n",
      " 13  payment_type                   7475 non-null   object        \n",
      " 14  payment_installments           7475 non-null   float64       \n",
      " 15  payment_value                  7475 non-null   float64       \n",
      " 16  order_item_id                  7475 non-null   float64       \n",
      " 17  product_id                     7475 non-null   object        \n",
      " 18  seller_id                      7475 non-null   object        \n",
      " 19  shipping_limit_date            7475 non-null   datetime64[ns]\n",
      " 20  price                          7475 non-null   float64       \n",
      " 21  freight_value                  7475 non-null   float64       \n",
      " 22  product_category_name          7475 non-null   object        \n",
      " 23  product_name_lenght            7475 non-null   float64       \n",
      " 24  product_description_lenght     7475 non-null   float64       \n",
      " 25  product_photos_qty             7475 non-null   float64       \n",
      " 26  product_weight_g               7475 non-null   float64       \n",
      " 27  product_length_cm              7475 non-null   float64       \n",
      " 28  product_height_cm              7475 non-null   float64       \n",
      " 29  product_width_cm               7475 non-null   float64       \n",
      "dtypes: datetime64[ns](6), float64(14), object(10)\n",
      "memory usage: 1.7+ MB\n"
     ]
    }
   ],
   "source": [
    "ecom_data_df.info()"
   ]
  },
  {
   "cell_type": "code",
   "execution_count": 4,
   "id": "f6cdc693",
   "metadata": {},
   "outputs": [
    {
     "name": "stdout",
     "output_type": "stream",
     "text": [
      "customer_id                              object\n",
      "customer_unique_id                       object\n",
      "customer_zip_code_prefix                float64\n",
      "customer_city                            object\n",
      "customer_state                           object\n",
      "order_id                                 object\n",
      "order_status                             object\n",
      "order_purchase_timestamp         datetime64[ns]\n",
      "order_approved_at                datetime64[ns]\n",
      "order_delivered_carrier_date     datetime64[ns]\n",
      "order_delivered_customer_date    datetime64[ns]\n",
      "order_estimated_delivery_date    datetime64[ns]\n",
      "payment_sequential                      float64\n",
      "payment_type                             object\n",
      "payment_installments                    float64\n",
      "payment_value                           float64\n",
      "order_item_id                           float64\n",
      "product_id                               object\n",
      "seller_id                                object\n",
      "shipping_limit_date              datetime64[ns]\n",
      "price                                   float64\n",
      "freight_value                           float64\n",
      "product_category_name                    object\n",
      "product_name_lenght                     float64\n",
      "product_description_lenght              float64\n",
      "product_photos_qty                      float64\n",
      "product_weight_g                        float64\n",
      "product_length_cm                       float64\n",
      "product_height_cm                       float64\n",
      "product_width_cm                        float64\n",
      "dtype: object\n"
     ]
    }
   ],
   "source": [
    "print(ecom_data_df.dtypes)"
   ]
  },
  {
   "cell_type": "markdown",
   "id": "cd82ec76",
   "metadata": {},
   "source": [
    "Change data type 'customer_zip_code_prefix' to object"
   ]
  },
  {
   "cell_type": "code",
   "execution_count": 5,
   "id": "7b6bbff9",
   "metadata": {},
   "outputs": [
    {
     "name": "stdout",
     "output_type": "stream",
     "text": [
      "data type before replace the data type: float64\n",
      "data type after replace the data type: object\n"
     ]
    }
   ],
   "source": [
    "print(\n",
    "    f\"data type before replace the data type: {ecom_data_df['customer_zip_code_prefix'].dtype}\"\n",
    ")\n",
    "\n",
    "# change the data type\n",
    "ecom_data_df[\"customer_zip_code_prefix\"] = ecom_data_df[\n",
    "    \"customer_zip_code_prefix\"\n",
    "].astype(object)\n",
    "\n",
    "print(\n",
    "    f\"data type after replace the data type: {ecom_data_df['customer_zip_code_prefix'].dtype}\"\n",
    ")"
   ]
  },
  {
   "cell_type": "markdown",
   "id": "932d7c51",
   "metadata": {},
   "source": [
    "## Make feature base time"
   ]
  },
  {
   "cell_type": "code",
   "execution_count": 6,
   "id": "0af87c5d",
   "metadata": {},
   "outputs": [],
   "source": [
    "def calculate_duration(df, start_date_col, end_date_col, unit=\"days\"):\n",
    "    \"\"\"\n",
    "    calculate two column date durration in preferred unit\n",
    "    Args:\n",
    "        df (pd.DataFrame): DataFrame input.\n",
    "        start_date_col (str): start column name.\n",
    "        end_date_col (str): end column name.\n",
    "        unit (str): unit preferred('days', 'hours', 'seconds').\n",
    "\n",
    "    Returns:\n",
    "        pd.Series: result durration that contains calculations.\n",
    "                   return NaN if wrong or onf of NaT input dates.\n",
    "    \"\"\"\n",
    "    # calculate timedelta (time gap)\n",
    "    duration_timedelta = df[end_date_col] - df[start_date_col]\n",
    "\n",
    "    # convert timedelta to total second time\n",
    "    duration_seconds = duration_timedelta.dt.total_seconds()\n",
    "\n",
    "    # convert total second time to preferred unit\n",
    "    if unit == \"seconds\":\n",
    "        return duration_seconds\n",
    "    elif unit == \"hours\":\n",
    "        return duration_seconds / 3600\n",
    "    elif unit == \"days\":\n",
    "        return duration_seconds / (24 * 3600)\n",
    "\n",
    "    else:\n",
    "        raise ValueError(\n",
    "            f\"unit is not supported: {unit}. choose 'days', 'hours', 'seconds'.\"\n",
    "        )"
   ]
  },
  {
   "cell_type": "code",
   "execution_count": 8,
   "id": "c660e658",
   "metadata": {},
   "outputs": [
    {
     "name": "stdout",
     "output_type": "stream",
     "text": [
      "--- Creating Time-Based Features (Unit: days) ---\n",
      "Created column: 'time_to_approve'\n",
      "Created column: 'time_to_carrier'\n",
      "Created column: 'shipping_time'\n",
      "Created column: 'total_delivery_time'\n",
      "Created column: 'delivery_vs_estimate'\n",
      "Columns created:\n",
      "['time_to_approve', 'time_to_carrier', 'shipping_time', 'total_delivery_time', 'delivery_vs_estimate']\n",
      "Time-based features creation complete!\n"
     ]
    }
   ],
   "source": [
    "# Define the specifications for each duration calculation\n",
    "# Each tuple contains: (new_column_name, start_date_column, end_date_column)\n",
    "duration_specs = [\n",
    "    (\"time_to_approve\", \"order_purchase_timestamp\", \"order_approved_at\"),\n",
    "    (\"time_to_carrier\", \"order_approved_at\", \"order_delivered_carrier_date\"),\n",
    "    (\"shipping_time\", \"order_delivered_carrier_date\", \"order_delivered_customer_date\"),\n",
    "    (\n",
    "        \"total_delivery_time\",\n",
    "        \"order_purchase_timestamp\",\n",
    "        \"order_delivered_customer_date\",\n",
    "    ),\n",
    "    (\n",
    "        \"delivery_vs_estimate\",\n",
    "        \"order_estimated_delivery_date\",\n",
    "        \"order_delivered_customer_date\",\n",
    "    ),\n",
    "]\n",
    "\n",
    "# Define the unit for all calculations (assuming it's the same for now)\n",
    "calculation_unit = \"days\"\n",
    "\n",
    "print(f\"--- Creating Time-Based Features (Unit: {calculation_unit}) ---\")\n",
    "\n",
    "# Loop through the specifications and calculate/assign the duration for each\n",
    "for new_col_name, start_col, end_col in duration_specs:\n",
    "    if start_col in ecom_data_df.columns and end_col in ecom_data_df.columns:\n",
    "        ecom_data_df[new_col_name] = calculate_duration(\n",
    "            ecom_data_df, start_col, end_col, calculation_unit\n",
    "        )\n",
    "        print(f\"Created column: '{new_col_name}'\")\n",
    "    else:\n",
    "        print(\n",
    "            f\"Warning: Skipping '{new_col_name}'. Start column '{start_col}' or end column '{end_col}' not found.\"\n",
    "        )\n",
    "\n",
    "print(\n",
    "    f\"Columns created:\\n{[col for col in ecom_data_df.columns if col in [spec[0] for spec in duration_specs]]}\"\n",
    ")\n",
    "print(\"Time-based features creation complete!\")"
   ]
  },
  {
   "cell_type": "markdown",
   "id": "3d03ddac",
   "metadata": {},
   "source": [
    "## Investigate Order-Payment Relationship & Create Order Level (Non-Payment) Feature"
   ]
  },
  {
   "cell_type": "code",
   "execution_count": 10,
   "id": "0d4b653e",
   "metadata": {},
   "outputs": [
    {
     "name": "stdout",
     "output_type": "stream",
     "text": [
      "-- Investigate relations order-payment --\n",
      "unique number of order_id: 6817\n",
      "total order_id with multiple rows: 465\n",
      "Payment details for sample order_id with multiple rows (465c2e1bee4561cb39e0db8c5993aafc):\n"
     ]
    },
    {
     "data": {
      "text/html": [
       "<div>\n",
       "<style scoped>\n",
       "    .dataframe tbody tr th:only-of-type {\n",
       "        vertical-align: middle;\n",
       "    }\n",
       "\n",
       "    .dataframe tbody tr th {\n",
       "        vertical-align: top;\n",
       "    }\n",
       "\n",
       "    .dataframe thead th {\n",
       "        text-align: right;\n",
       "    }\n",
       "</style>\n",
       "<table border=\"1\" class=\"dataframe\">\n",
       "  <thead>\n",
       "    <tr style=\"text-align: right;\">\n",
       "      <th></th>\n",
       "      <th>order_id</th>\n",
       "      <th>payment_sequential</th>\n",
       "      <th>payment_type</th>\n",
       "      <th>payment_installments</th>\n",
       "      <th>payment_value</th>\n",
       "      <th>price</th>\n",
       "      <th>freight_value</th>\n",
       "    </tr>\n",
       "  </thead>\n",
       "  <tbody>\n",
       "    <tr>\n",
       "      <th>2095</th>\n",
       "      <td>465c2e1bee4561cb39e0db8c5993aafc</td>\n",
       "      <td>8.0</td>\n",
       "      <td>voucher</td>\n",
       "      <td>1.0</td>\n",
       "      <td>41.03</td>\n",
       "      <td>412.0</td>\n",
       "      <td>27.72</td>\n",
       "    </tr>\n",
       "    <tr>\n",
       "      <th>2096</th>\n",
       "      <td>465c2e1bee4561cb39e0db8c5993aafc</td>\n",
       "      <td>8.0</td>\n",
       "      <td>voucher</td>\n",
       "      <td>1.0</td>\n",
       "      <td>41.03</td>\n",
       "      <td>412.0</td>\n",
       "      <td>27.72</td>\n",
       "    </tr>\n",
       "    <tr>\n",
       "      <th>2097</th>\n",
       "      <td>465c2e1bee4561cb39e0db8c5993aafc</td>\n",
       "      <td>4.0</td>\n",
       "      <td>voucher</td>\n",
       "      <td>1.0</td>\n",
       "      <td>59.40</td>\n",
       "      <td>412.0</td>\n",
       "      <td>27.72</td>\n",
       "    </tr>\n",
       "    <tr>\n",
       "      <th>2098</th>\n",
       "      <td>465c2e1bee4561cb39e0db8c5993aafc</td>\n",
       "      <td>4.0</td>\n",
       "      <td>voucher</td>\n",
       "      <td>1.0</td>\n",
       "      <td>59.40</td>\n",
       "      <td>412.0</td>\n",
       "      <td>27.72</td>\n",
       "    </tr>\n",
       "    <tr>\n",
       "      <th>2099</th>\n",
       "      <td>465c2e1bee4561cb39e0db8c5993aafc</td>\n",
       "      <td>2.0</td>\n",
       "      <td>voucher</td>\n",
       "      <td>1.0</td>\n",
       "      <td>26.18</td>\n",
       "      <td>412.0</td>\n",
       "      <td>27.72</td>\n",
       "    </tr>\n",
       "  </tbody>\n",
       "</table>\n",
       "</div>"
      ],
      "text/plain": [
       "                              order_id  payment_sequential payment_type  \\\n",
       "2095  465c2e1bee4561cb39e0db8c5993aafc                 8.0      voucher   \n",
       "2096  465c2e1bee4561cb39e0db8c5993aafc                 8.0      voucher   \n",
       "2097  465c2e1bee4561cb39e0db8c5993aafc                 4.0      voucher   \n",
       "2098  465c2e1bee4561cb39e0db8c5993aafc                 4.0      voucher   \n",
       "2099  465c2e1bee4561cb39e0db8c5993aafc                 2.0      voucher   \n",
       "\n",
       "      payment_installments  payment_value  price  freight_value  \n",
       "2095                   1.0          41.03  412.0          27.72  \n",
       "2096                   1.0          41.03  412.0          27.72  \n",
       "2097                   1.0          59.40  412.0          27.72  \n",
       "2098                   1.0          59.40  412.0          27.72  \n",
       "2099                   1.0          26.18  412.0          27.72  "
      ]
     },
     "metadata": {},
     "output_type": "display_data"
    }
   ],
   "source": [
    "print(\"-- Investigate relations order-payment --\")\n",
    "\n",
    "# Count how many rows for each order_id\n",
    "order_id_counts = ecom_data_df[\"order_id\"].value_counts()\n",
    "\n",
    "# identification order_id that appears more than once (orders with multi-item or multi-payment)\n",
    "multiple_rows_order_ids = order_id_counts[order_id_counts > 1].index.tolist()\n",
    "\n",
    "print(f\"unique number of order_id: {len(order_id_counts)}\")\n",
    "print(f\"total order_id with multiple rows: {len(multiple_rows_order_ids)}\")\n",
    "\n",
    "if multiple_rows_order_ids:\n",
    "    sample_order_id = multiple_rows_order_ids[0]\n",
    "    print(\n",
    "        f\"Payment details for sample order_id with multiple rows ({sample_order_id}):\"\n",
    "    )\n",
    "    display(\n",
    "        ecom_data_df[ecom_data_df[\"order_id\"] == sample_order_id][\n",
    "            [\n",
    "                \"order_id\",\n",
    "                \"payment_sequential\",\n",
    "                \"payment_type\",\n",
    "                \"payment_installments\",\n",
    "                \"payment_value\",\n",
    "                \"price\",\n",
    "                \"freight_value\",\n",
    "            ]\n",
    "        ].head()\n",
    "    )\n",
    "else:\n",
    "    print(\n",
    "        \"No order_id with multiple rows was found in the DataFrame (after this cleanup).\"\n",
    "    )"
   ]
  }
 ],
 "metadata": {
  "kernelspec": {
   "display_name": "base",
   "language": "python",
   "name": "python3"
  },
  "language_info": {
   "codemirror_mode": {
    "name": "ipython",
    "version": 3
   },
   "file_extension": ".py",
   "mimetype": "text/x-python",
   "name": "python",
   "nbconvert_exporter": "python",
   "pygments_lexer": "ipython3",
   "version": "3.12.7"
  }
 },
 "nbformat": 4,
 "nbformat_minor": 5
}
